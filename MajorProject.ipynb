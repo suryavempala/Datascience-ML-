{
 "cells": [
  {
   "cell_type": "markdown",
   "metadata": {},
   "source": [
    "#        MAJOR PROJECT                                                 -ypsnikhil09@gmail.com"
   ]
  },
  {
   "cell_type": "markdown",
   "metadata": {},
   "source": [
    "## Problem Statement: Predict the costs of used cars given the data collected from various sources and distributed across varioud locations in india"
   ]
  },
  {
   "cell_type": "markdown",
   "metadata": {},
   "source": [
    "### Note: RMS and R2 Score values of test data and train data are calculated at : In [1042] & In[1043]\n",
    "### Heat map is shown at : In [1058]"
   ]
  },
  {
   "cell_type": "markdown",
   "metadata": {},
   "source": [
    "## Data Preprocessing"
   ]
  },
  {
   "cell_type": "code",
   "execution_count": 942,
   "metadata": {},
   "outputs": [],
   "source": [
    "import pandas as pd\n",
    "data_train=pd.read_excel('data_train.xlsx')"
   ]
  },
  {
   "cell_type": "code",
   "execution_count": 943,
   "metadata": {},
   "outputs": [
    {
     "data": {
      "text/plain": [
       "Index(['Name', 'Location', 'Year', 'Kilometers_Driven', 'Fuel_Type',\n",
       "       'Transmission', 'Owner_Type', 'Mileage', 'Engine', 'Power', 'Seats',\n",
       "       'Price'],\n",
       "      dtype='object')"
      ]
     },
     "execution_count": 943,
     "metadata": {},
     "output_type": "execute_result"
    }
   ],
   "source": [
    "data_train.columns"
   ]
  },
  {
   "cell_type": "code",
   "execution_count": 944,
   "metadata": {},
   "outputs": [
    {
     "data": {
      "text/html": [
       "<div>\n",
       "<style scoped>\n",
       "    .dataframe tbody tr th:only-of-type {\n",
       "        vertical-align: middle;\n",
       "    }\n",
       "\n",
       "    .dataframe tbody tr th {\n",
       "        vertical-align: top;\n",
       "    }\n",
       "\n",
       "    .dataframe thead th {\n",
       "        text-align: right;\n",
       "    }\n",
       "</style>\n",
       "<table border=\"1\" class=\"dataframe\">\n",
       "  <thead>\n",
       "    <tr style=\"text-align: right;\">\n",
       "      <th></th>\n",
       "      <th>Name</th>\n",
       "      <th>Location</th>\n",
       "      <th>Year</th>\n",
       "      <th>Kilometers_Driven</th>\n",
       "      <th>Fuel_Type</th>\n",
       "      <th>Transmission</th>\n",
       "      <th>Owner_Type</th>\n",
       "      <th>Mileage</th>\n",
       "      <th>Engine</th>\n",
       "      <th>Power</th>\n",
       "      <th>Seats</th>\n",
       "      <th>Price</th>\n",
       "    </tr>\n",
       "  </thead>\n",
       "  <tbody>\n",
       "    <tr>\n",
       "      <th>0</th>\n",
       "      <td>Maruti Wagon R LXI CNG</td>\n",
       "      <td>Mumbai</td>\n",
       "      <td>2010</td>\n",
       "      <td>72000</td>\n",
       "      <td>CNG</td>\n",
       "      <td>Manual</td>\n",
       "      <td>First</td>\n",
       "      <td>26.6 km/kg</td>\n",
       "      <td>998 CC</td>\n",
       "      <td>58.16 bhp</td>\n",
       "      <td>5.0</td>\n",
       "      <td>1.75</td>\n",
       "    </tr>\n",
       "    <tr>\n",
       "      <th>1</th>\n",
       "      <td>Hyundai Creta 1.6 CRDi SX Option</td>\n",
       "      <td>Pune</td>\n",
       "      <td>2015</td>\n",
       "      <td>41000</td>\n",
       "      <td>Diesel</td>\n",
       "      <td>Manual</td>\n",
       "      <td>First</td>\n",
       "      <td>19.67 kmpl</td>\n",
       "      <td>1582 CC</td>\n",
       "      <td>126.2 bhp</td>\n",
       "      <td>5.0</td>\n",
       "      <td>12.50</td>\n",
       "    </tr>\n",
       "    <tr>\n",
       "      <th>2</th>\n",
       "      <td>Honda Jazz V</td>\n",
       "      <td>Chennai</td>\n",
       "      <td>2011</td>\n",
       "      <td>46000</td>\n",
       "      <td>Petrol</td>\n",
       "      <td>Manual</td>\n",
       "      <td>First</td>\n",
       "      <td>18.2 kmpl</td>\n",
       "      <td>1199 CC</td>\n",
       "      <td>88.7 bhp</td>\n",
       "      <td>5.0</td>\n",
       "      <td>4.50</td>\n",
       "    </tr>\n",
       "    <tr>\n",
       "      <th>3</th>\n",
       "      <td>Maruti Ertiga VDI</td>\n",
       "      <td>Chennai</td>\n",
       "      <td>2012</td>\n",
       "      <td>87000</td>\n",
       "      <td>Diesel</td>\n",
       "      <td>Manual</td>\n",
       "      <td>First</td>\n",
       "      <td>20.77 kmpl</td>\n",
       "      <td>1248 CC</td>\n",
       "      <td>88.76 bhp</td>\n",
       "      <td>7.0</td>\n",
       "      <td>6.00</td>\n",
       "    </tr>\n",
       "    <tr>\n",
       "      <th>4</th>\n",
       "      <td>Audi A4 New 2.0 TDI Multitronic</td>\n",
       "      <td>Coimbatore</td>\n",
       "      <td>2013</td>\n",
       "      <td>40670</td>\n",
       "      <td>Diesel</td>\n",
       "      <td>Automatic</td>\n",
       "      <td>Second</td>\n",
       "      <td>15.2 kmpl</td>\n",
       "      <td>1968 CC</td>\n",
       "      <td>140.8 bhp</td>\n",
       "      <td>5.0</td>\n",
       "      <td>17.74</td>\n",
       "    </tr>\n",
       "    <tr>\n",
       "      <th>5</th>\n",
       "      <td>Hyundai EON LPG Era Plus Option</td>\n",
       "      <td>Hyderabad</td>\n",
       "      <td>2012</td>\n",
       "      <td>75000</td>\n",
       "      <td>LPG</td>\n",
       "      <td>Manual</td>\n",
       "      <td>First</td>\n",
       "      <td>21.1 km/kg</td>\n",
       "      <td>814 CC</td>\n",
       "      <td>55.2 bhp</td>\n",
       "      <td>5.0</td>\n",
       "      <td>2.35</td>\n",
       "    </tr>\n",
       "    <tr>\n",
       "      <th>6</th>\n",
       "      <td>Nissan Micra Diesel XV</td>\n",
       "      <td>Jaipur</td>\n",
       "      <td>2013</td>\n",
       "      <td>86999</td>\n",
       "      <td>Diesel</td>\n",
       "      <td>Manual</td>\n",
       "      <td>First</td>\n",
       "      <td>23.08 kmpl</td>\n",
       "      <td>1461 CC</td>\n",
       "      <td>63.1 bhp</td>\n",
       "      <td>5.0</td>\n",
       "      <td>3.50</td>\n",
       "    </tr>\n",
       "    <tr>\n",
       "      <th>7</th>\n",
       "      <td>Toyota Innova Crysta 2.8 GX AT 8S</td>\n",
       "      <td>Mumbai</td>\n",
       "      <td>2016</td>\n",
       "      <td>36000</td>\n",
       "      <td>Diesel</td>\n",
       "      <td>Automatic</td>\n",
       "      <td>First</td>\n",
       "      <td>11.36 kmpl</td>\n",
       "      <td>2755 CC</td>\n",
       "      <td>171.5 bhp</td>\n",
       "      <td>8.0</td>\n",
       "      <td>17.50</td>\n",
       "    </tr>\n",
       "    <tr>\n",
       "      <th>8</th>\n",
       "      <td>Volkswagen Vento Diesel Comfortline</td>\n",
       "      <td>Pune</td>\n",
       "      <td>2013</td>\n",
       "      <td>64430</td>\n",
       "      <td>Diesel</td>\n",
       "      <td>Manual</td>\n",
       "      <td>First</td>\n",
       "      <td>20.54 kmpl</td>\n",
       "      <td>1598 CC</td>\n",
       "      <td>103.6 bhp</td>\n",
       "      <td>5.0</td>\n",
       "      <td>5.20</td>\n",
       "    </tr>\n",
       "    <tr>\n",
       "      <th>9</th>\n",
       "      <td>Tata Indica Vista Quadrajet LS</td>\n",
       "      <td>Chennai</td>\n",
       "      <td>2012</td>\n",
       "      <td>65932</td>\n",
       "      <td>Diesel</td>\n",
       "      <td>Manual</td>\n",
       "      <td>Second</td>\n",
       "      <td>22.3 kmpl</td>\n",
       "      <td>1248 CC</td>\n",
       "      <td>74 bhp</td>\n",
       "      <td>5.0</td>\n",
       "      <td>1.95</td>\n",
       "    </tr>\n",
       "    <tr>\n",
       "      <th>10</th>\n",
       "      <td>Maruti Ciaz Zeta</td>\n",
       "      <td>Kochi</td>\n",
       "      <td>2018</td>\n",
       "      <td>25692</td>\n",
       "      <td>Petrol</td>\n",
       "      <td>Manual</td>\n",
       "      <td>First</td>\n",
       "      <td>21.56 kmpl</td>\n",
       "      <td>1462 CC</td>\n",
       "      <td>103.25 bhp</td>\n",
       "      <td>5.0</td>\n",
       "      <td>9.95</td>\n",
       "    </tr>\n",
       "    <tr>\n",
       "      <th>11</th>\n",
       "      <td>Honda City 1.5 V AT Sunroof</td>\n",
       "      <td>Kolkata</td>\n",
       "      <td>2012</td>\n",
       "      <td>60000</td>\n",
       "      <td>Petrol</td>\n",
       "      <td>Automatic</td>\n",
       "      <td>First</td>\n",
       "      <td>16.8 kmpl</td>\n",
       "      <td>1497 CC</td>\n",
       "      <td>116.3 bhp</td>\n",
       "      <td>5.0</td>\n",
       "      <td>4.49</td>\n",
       "    </tr>\n",
       "    <tr>\n",
       "      <th>12</th>\n",
       "      <td>Maruti Swift VDI BSIV</td>\n",
       "      <td>Jaipur</td>\n",
       "      <td>2015</td>\n",
       "      <td>64424</td>\n",
       "      <td>Diesel</td>\n",
       "      <td>Manual</td>\n",
       "      <td>First</td>\n",
       "      <td>25.2 kmpl</td>\n",
       "      <td>1248 CC</td>\n",
       "      <td>74 bhp</td>\n",
       "      <td>5.0</td>\n",
       "      <td>5.60</td>\n",
       "    </tr>\n",
       "    <tr>\n",
       "      <th>13</th>\n",
       "      <td>Land Rover Range Rover 2.2L Pure</td>\n",
       "      <td>Delhi</td>\n",
       "      <td>2014</td>\n",
       "      <td>72000</td>\n",
       "      <td>Diesel</td>\n",
       "      <td>Automatic</td>\n",
       "      <td>First</td>\n",
       "      <td>12.7 kmpl</td>\n",
       "      <td>2179 CC</td>\n",
       "      <td>187.7 bhp</td>\n",
       "      <td>5.0</td>\n",
       "      <td>27.00</td>\n",
       "    </tr>\n",
       "    <tr>\n",
       "      <th>14</th>\n",
       "      <td>Land Rover Freelander 2 TD4 SE</td>\n",
       "      <td>Pune</td>\n",
       "      <td>2012</td>\n",
       "      <td>85000</td>\n",
       "      <td>Diesel</td>\n",
       "      <td>Automatic</td>\n",
       "      <td>Second</td>\n",
       "      <td>0.0 kmpl</td>\n",
       "      <td>2179 CC</td>\n",
       "      <td>115 bhp</td>\n",
       "      <td>5.0</td>\n",
       "      <td>17.50</td>\n",
       "    </tr>\n",
       "    <tr>\n",
       "      <th>15</th>\n",
       "      <td>Mitsubishi Pajero Sport 4X4</td>\n",
       "      <td>Delhi</td>\n",
       "      <td>2014</td>\n",
       "      <td>110000</td>\n",
       "      <td>Diesel</td>\n",
       "      <td>Manual</td>\n",
       "      <td>First</td>\n",
       "      <td>13.5 kmpl</td>\n",
       "      <td>2477 CC</td>\n",
       "      <td>175.56 bhp</td>\n",
       "      <td>7.0</td>\n",
       "      <td>15.00</td>\n",
       "    </tr>\n",
       "    <tr>\n",
       "      <th>16</th>\n",
       "      <td>Honda Amaze S i-Dtech</td>\n",
       "      <td>Kochi</td>\n",
       "      <td>2016</td>\n",
       "      <td>58950</td>\n",
       "      <td>Diesel</td>\n",
       "      <td>Manual</td>\n",
       "      <td>First</td>\n",
       "      <td>25.8 kmpl</td>\n",
       "      <td>1498 CC</td>\n",
       "      <td>98.6 bhp</td>\n",
       "      <td>5.0</td>\n",
       "      <td>5.40</td>\n",
       "    </tr>\n",
       "    <tr>\n",
       "      <th>17</th>\n",
       "      <td>Maruti Swift DDiS VDI</td>\n",
       "      <td>Jaipur</td>\n",
       "      <td>2017</td>\n",
       "      <td>25000</td>\n",
       "      <td>Diesel</td>\n",
       "      <td>Manual</td>\n",
       "      <td>First</td>\n",
       "      <td>28.4 kmpl</td>\n",
       "      <td>1248 CC</td>\n",
       "      <td>74 bhp</td>\n",
       "      <td>5.0</td>\n",
       "      <td>5.99</td>\n",
       "    </tr>\n",
       "    <tr>\n",
       "      <th>18</th>\n",
       "      <td>Renault Duster 85PS Diesel RxL Plus</td>\n",
       "      <td>Kochi</td>\n",
       "      <td>2014</td>\n",
       "      <td>77469</td>\n",
       "      <td>Diesel</td>\n",
       "      <td>Manual</td>\n",
       "      <td>First</td>\n",
       "      <td>20.45 kmpl</td>\n",
       "      <td>1461 CC</td>\n",
       "      <td>83.8 bhp</td>\n",
       "      <td>5.0</td>\n",
       "      <td>6.34</td>\n",
       "    </tr>\n",
       "    <tr>\n",
       "      <th>19</th>\n",
       "      <td>Mercedes-Benz New C-Class C 220 CDI BE Avantgare</td>\n",
       "      <td>Bangalore</td>\n",
       "      <td>2014</td>\n",
       "      <td>78500</td>\n",
       "      <td>Diesel</td>\n",
       "      <td>Automatic</td>\n",
       "      <td>First</td>\n",
       "      <td>14.84 kmpl</td>\n",
       "      <td>2143 CC</td>\n",
       "      <td>167.62 bhp</td>\n",
       "      <td>5.0</td>\n",
       "      <td>28.00</td>\n",
       "    </tr>\n",
       "    <tr>\n",
       "      <th>20</th>\n",
       "      <td>BMW 3 Series 320d</td>\n",
       "      <td>Kochi</td>\n",
       "      <td>2014</td>\n",
       "      <td>32982</td>\n",
       "      <td>Diesel</td>\n",
       "      <td>Automatic</td>\n",
       "      <td>First</td>\n",
       "      <td>22.69 kmpl</td>\n",
       "      <td>1995 CC</td>\n",
       "      <td>190 bhp</td>\n",
       "      <td>5.0</td>\n",
       "      <td>18.55</td>\n",
       "    </tr>\n",
       "    <tr>\n",
       "      <th>21</th>\n",
       "      <td>Maruti S Cross DDiS 200 Alpha</td>\n",
       "      <td>Bangalore</td>\n",
       "      <td>2015</td>\n",
       "      <td>55392</td>\n",
       "      <td>Diesel</td>\n",
       "      <td>Manual</td>\n",
       "      <td>Second</td>\n",
       "      <td>23.65 kmpl</td>\n",
       "      <td>1248 CC</td>\n",
       "      <td>88.5 bhp</td>\n",
       "      <td>5.0</td>\n",
       "      <td>8.25</td>\n",
       "    </tr>\n",
       "    <tr>\n",
       "      <th>22</th>\n",
       "      <td>Audi A6 2011-2015 35 TFSI Technology</td>\n",
       "      <td>Mumbai</td>\n",
       "      <td>2015</td>\n",
       "      <td>55985</td>\n",
       "      <td>Petrol</td>\n",
       "      <td>Automatic</td>\n",
       "      <td>First</td>\n",
       "      <td>13.53 kmpl</td>\n",
       "      <td>1984 CC</td>\n",
       "      <td>177.01 bhp</td>\n",
       "      <td>5.0</td>\n",
       "      <td>23.50</td>\n",
       "    </tr>\n",
       "    <tr>\n",
       "      <th>23</th>\n",
       "      <td>Hyundai i20 1.2 Magna</td>\n",
       "      <td>Kolkata</td>\n",
       "      <td>2010</td>\n",
       "      <td>45807</td>\n",
       "      <td>Petrol</td>\n",
       "      <td>Manual</td>\n",
       "      <td>First</td>\n",
       "      <td>18.5 kmpl</td>\n",
       "      <td>1197 CC</td>\n",
       "      <td>80 bhp</td>\n",
       "      <td>5.0</td>\n",
       "      <td>1.87</td>\n",
       "    </tr>\n",
       "    <tr>\n",
       "      <th>24</th>\n",
       "      <td>Volkswagen Vento Petrol Highline AT</td>\n",
       "      <td>Kolkata</td>\n",
       "      <td>2010</td>\n",
       "      <td>33000</td>\n",
       "      <td>Petrol</td>\n",
       "      <td>Automatic</td>\n",
       "      <td>First</td>\n",
       "      <td>14.4 kmpl</td>\n",
       "      <td>1598 CC</td>\n",
       "      <td>103.6 bhp</td>\n",
       "      <td>5.0</td>\n",
       "      <td>2.85</td>\n",
       "    </tr>\n",
       "    <tr>\n",
       "      <th>25</th>\n",
       "      <td>Honda City Corporate Edition</td>\n",
       "      <td>Mumbai</td>\n",
       "      <td>2012</td>\n",
       "      <td>51920</td>\n",
       "      <td>Petrol</td>\n",
       "      <td>Manual</td>\n",
       "      <td>First</td>\n",
       "      <td>16.8 kmpl</td>\n",
       "      <td>1497 CC</td>\n",
       "      <td>116.3 bhp</td>\n",
       "      <td>5.0</td>\n",
       "      <td>4.25</td>\n",
       "    </tr>\n",
       "    <tr>\n",
       "      <th>26</th>\n",
       "      <td>Nissan Micra Diesel XV</td>\n",
       "      <td>Hyderabad</td>\n",
       "      <td>2012</td>\n",
       "      <td>54000</td>\n",
       "      <td>Diesel</td>\n",
       "      <td>Manual</td>\n",
       "      <td>First</td>\n",
       "      <td>23.08 kmpl</td>\n",
       "      <td>1461 CC</td>\n",
       "      <td>63.1 bhp</td>\n",
       "      <td>5.0</td>\n",
       "      <td>4.25</td>\n",
       "    </tr>\n",
       "    <tr>\n",
       "      <th>27</th>\n",
       "      <td>Maruti Alto K10 2010-2014 VXI</td>\n",
       "      <td>Hyderabad</td>\n",
       "      <td>2013</td>\n",
       "      <td>54000</td>\n",
       "      <td>Petrol</td>\n",
       "      <td>Manual</td>\n",
       "      <td>Second</td>\n",
       "      <td>20.92 kmpl</td>\n",
       "      <td>998 CC</td>\n",
       "      <td>67.1 bhp</td>\n",
       "      <td>5.0</td>\n",
       "      <td>2.75</td>\n",
       "    </tr>\n",
       "    <tr>\n",
       "      <th>28</th>\n",
       "      <td>Honda WRV i-VTEC VX</td>\n",
       "      <td>Kochi</td>\n",
       "      <td>2018</td>\n",
       "      <td>37430</td>\n",
       "      <td>Petrol</td>\n",
       "      <td>Manual</td>\n",
       "      <td>First</td>\n",
       "      <td>17.5 kmpl</td>\n",
       "      <td>1199 CC</td>\n",
       "      <td>88.7 bhp</td>\n",
       "      <td>5.0</td>\n",
       "      <td>9.90</td>\n",
       "    </tr>\n",
       "    <tr>\n",
       "      <th>29</th>\n",
       "      <td>Toyota Innova 2.5 V Diesel 7-seater</td>\n",
       "      <td>Mumbai</td>\n",
       "      <td>2007</td>\n",
       "      <td>262000</td>\n",
       "      <td>Diesel</td>\n",
       "      <td>Manual</td>\n",
       "      <td>Fourth &amp; Above</td>\n",
       "      <td>12.8 kmpl</td>\n",
       "      <td>2494 CC</td>\n",
       "      <td>102 bhp</td>\n",
       "      <td>7.0</td>\n",
       "      <td>4.00</td>\n",
       "    </tr>\n",
       "  </tbody>\n",
       "</table>\n",
       "</div>"
      ],
      "text/plain": [
       "                                                Name    Location  Year  \\\n",
       "0                             Maruti Wagon R LXI CNG      Mumbai  2010   \n",
       "1                   Hyundai Creta 1.6 CRDi SX Option        Pune  2015   \n",
       "2                                       Honda Jazz V     Chennai  2011   \n",
       "3                                  Maruti Ertiga VDI     Chennai  2012   \n",
       "4                    Audi A4 New 2.0 TDI Multitronic  Coimbatore  2013   \n",
       "5                    Hyundai EON LPG Era Plus Option   Hyderabad  2012   \n",
       "6                             Nissan Micra Diesel XV      Jaipur  2013   \n",
       "7                  Toyota Innova Crysta 2.8 GX AT 8S      Mumbai  2016   \n",
       "8                Volkswagen Vento Diesel Comfortline        Pune  2013   \n",
       "9                     Tata Indica Vista Quadrajet LS     Chennai  2012   \n",
       "10                                  Maruti Ciaz Zeta       Kochi  2018   \n",
       "11                       Honda City 1.5 V AT Sunroof     Kolkata  2012   \n",
       "12                             Maruti Swift VDI BSIV      Jaipur  2015   \n",
       "13                  Land Rover Range Rover 2.2L Pure       Delhi  2014   \n",
       "14                    Land Rover Freelander 2 TD4 SE        Pune  2012   \n",
       "15                       Mitsubishi Pajero Sport 4X4       Delhi  2014   \n",
       "16                             Honda Amaze S i-Dtech       Kochi  2016   \n",
       "17                             Maruti Swift DDiS VDI      Jaipur  2017   \n",
       "18               Renault Duster 85PS Diesel RxL Plus       Kochi  2014   \n",
       "19  Mercedes-Benz New C-Class C 220 CDI BE Avantgare   Bangalore  2014   \n",
       "20                                 BMW 3 Series 320d       Kochi  2014   \n",
       "21                     Maruti S Cross DDiS 200 Alpha   Bangalore  2015   \n",
       "22              Audi A6 2011-2015 35 TFSI Technology      Mumbai  2015   \n",
       "23                             Hyundai i20 1.2 Magna     Kolkata  2010   \n",
       "24               Volkswagen Vento Petrol Highline AT     Kolkata  2010   \n",
       "25                      Honda City Corporate Edition      Mumbai  2012   \n",
       "26                            Nissan Micra Diesel XV   Hyderabad  2012   \n",
       "27                     Maruti Alto K10 2010-2014 VXI   Hyderabad  2013   \n",
       "28                               Honda WRV i-VTEC VX       Kochi  2018   \n",
       "29               Toyota Innova 2.5 V Diesel 7-seater      Mumbai  2007   \n",
       "\n",
       "    Kilometers_Driven Fuel_Type Transmission      Owner_Type     Mileage  \\\n",
       "0               72000       CNG       Manual           First  26.6 km/kg   \n",
       "1               41000    Diesel       Manual           First  19.67 kmpl   \n",
       "2               46000    Petrol       Manual           First   18.2 kmpl   \n",
       "3               87000    Diesel       Manual           First  20.77 kmpl   \n",
       "4               40670    Diesel    Automatic          Second   15.2 kmpl   \n",
       "5               75000       LPG       Manual           First  21.1 km/kg   \n",
       "6               86999    Diesel       Manual           First  23.08 kmpl   \n",
       "7               36000    Diesel    Automatic           First  11.36 kmpl   \n",
       "8               64430    Diesel       Manual           First  20.54 kmpl   \n",
       "9               65932    Diesel       Manual          Second   22.3 kmpl   \n",
       "10              25692    Petrol       Manual           First  21.56 kmpl   \n",
       "11              60000    Petrol    Automatic           First   16.8 kmpl   \n",
       "12              64424    Diesel       Manual           First   25.2 kmpl   \n",
       "13              72000    Diesel    Automatic           First   12.7 kmpl   \n",
       "14              85000    Diesel    Automatic          Second    0.0 kmpl   \n",
       "15             110000    Diesel       Manual           First   13.5 kmpl   \n",
       "16              58950    Diesel       Manual           First   25.8 kmpl   \n",
       "17              25000    Diesel       Manual           First   28.4 kmpl   \n",
       "18              77469    Diesel       Manual           First  20.45 kmpl   \n",
       "19              78500    Diesel    Automatic           First  14.84 kmpl   \n",
       "20              32982    Diesel    Automatic           First  22.69 kmpl   \n",
       "21              55392    Diesel       Manual          Second  23.65 kmpl   \n",
       "22              55985    Petrol    Automatic           First  13.53 kmpl   \n",
       "23              45807    Petrol       Manual           First   18.5 kmpl   \n",
       "24              33000    Petrol    Automatic           First   14.4 kmpl   \n",
       "25              51920    Petrol       Manual           First   16.8 kmpl   \n",
       "26              54000    Diesel       Manual           First  23.08 kmpl   \n",
       "27              54000    Petrol       Manual          Second  20.92 kmpl   \n",
       "28              37430    Petrol       Manual           First   17.5 kmpl   \n",
       "29             262000    Diesel       Manual  Fourth & Above   12.8 kmpl   \n",
       "\n",
       "     Engine       Power  Seats  Price  \n",
       "0    998 CC   58.16 bhp    5.0   1.75  \n",
       "1   1582 CC   126.2 bhp    5.0  12.50  \n",
       "2   1199 CC    88.7 bhp    5.0   4.50  \n",
       "3   1248 CC   88.76 bhp    7.0   6.00  \n",
       "4   1968 CC   140.8 bhp    5.0  17.74  \n",
       "5    814 CC    55.2 bhp    5.0   2.35  \n",
       "6   1461 CC    63.1 bhp    5.0   3.50  \n",
       "7   2755 CC   171.5 bhp    8.0  17.50  \n",
       "8   1598 CC   103.6 bhp    5.0   5.20  \n",
       "9   1248 CC      74 bhp    5.0   1.95  \n",
       "10  1462 CC  103.25 bhp    5.0   9.95  \n",
       "11  1497 CC   116.3 bhp    5.0   4.49  \n",
       "12  1248 CC      74 bhp    5.0   5.60  \n",
       "13  2179 CC   187.7 bhp    5.0  27.00  \n",
       "14  2179 CC     115 bhp    5.0  17.50  \n",
       "15  2477 CC  175.56 bhp    7.0  15.00  \n",
       "16  1498 CC    98.6 bhp    5.0   5.40  \n",
       "17  1248 CC      74 bhp    5.0   5.99  \n",
       "18  1461 CC    83.8 bhp    5.0   6.34  \n",
       "19  2143 CC  167.62 bhp    5.0  28.00  \n",
       "20  1995 CC     190 bhp    5.0  18.55  \n",
       "21  1248 CC    88.5 bhp    5.0   8.25  \n",
       "22  1984 CC  177.01 bhp    5.0  23.50  \n",
       "23  1197 CC      80 bhp    5.0   1.87  \n",
       "24  1598 CC   103.6 bhp    5.0   2.85  \n",
       "25  1497 CC   116.3 bhp    5.0   4.25  \n",
       "26  1461 CC    63.1 bhp    5.0   4.25  \n",
       "27   998 CC    67.1 bhp    5.0   2.75  \n",
       "28  1199 CC    88.7 bhp    5.0   9.90  \n",
       "29  2494 CC     102 bhp    7.0   4.00  "
      ]
     },
     "execution_count": 944,
     "metadata": {},
     "output_type": "execute_result"
    }
   ],
   "source": [
    "data_train.head(30)"
   ]
  },
  {
   "cell_type": "code",
   "execution_count": 945,
   "metadata": {},
   "outputs": [],
   "source": [
    "brand_name=[]\n",
    "model_name=[]\n",
    "for index,rows in data_train.iterrows():\n",
    "    brand_name.append(rows['Name'].split()[0].lower())\n",
    "    model_name.append(rows['Name'].split()[1].lower())"
   ]
  },
  {
   "cell_type": "code",
   "execution_count": 946,
   "metadata": {},
   "outputs": [
    {
     "data": {
      "image/png": "[encoded data removed]",
      "text/plain": [
       "<Figure size 720x360 with 1 Axes>"
      ]
     },
     "metadata": {
      "needs_background": "light"
     },
     "output_type": "display_data"
    }
   ],
   "source": [
    "import matplotlib.pyplot as plt\n",
    "data_train.Year.value_counts().sort_index().plot(kind='bar')\n",
    "plt.show()"
   ]
  },
  {
   "cell_type": "markdown",
   "metadata": {},
   "source": [
    "## EDA"
   ]
  },
  {
   "cell_type": "code",
   "execution_count": 947,
   "metadata": {},
   "outputs": [
    {
     "data": {
      "text/html": [
       "<div>\n",
       "<style scoped>\n",
       "    .dataframe tbody tr th:only-of-type {\n",
       "        vertical-align: middle;\n",
       "    }\n",
       "\n",
       "    .dataframe tbody tr th {\n",
       "        vertical-align: top;\n",
       "    }\n",
       "\n",
       "    .dataframe thead th {\n",
       "        text-align: right;\n",
       "    }\n",
       "</style>\n",
       "<table border=\"1\" class=\"dataframe\">\n",
       "  <thead>\n",
       "    <tr style=\"text-align: right;\">\n",
       "      <th></th>\n",
       "      <th>Name</th>\n",
       "      <th>Location</th>\n",
       "      <th>Year</th>\n",
       "      <th>Kilometers_Driven</th>\n",
       "      <th>Fuel_Type</th>\n",
       "      <th>Transmission</th>\n",
       "      <th>Owner_Type</th>\n",
       "      <th>Mileage</th>\n",
       "      <th>Engine</th>\n",
       "      <th>Power</th>\n",
       "      <th>Seats</th>\n",
       "      <th>Price</th>\n",
       "    </tr>\n",
       "  </thead>\n",
       "  <tbody>\n",
       "    <tr>\n",
       "      <th>0</th>\n",
       "      <td>Maruti Wagon R LXI CNG</td>\n",
       "      <td>Mumbai</td>\n",
       "      <td>2010</td>\n",
       "      <td>72000</td>\n",
       "      <td>CNG</td>\n",
       "      <td>Manual</td>\n",
       "      <td>First</td>\n",
       "      <td>26.6 km/kg</td>\n",
       "      <td>998 CC</td>\n",
       "      <td>58.16 bhp</td>\n",
       "      <td>5.0</td>\n",
       "      <td>1.75</td>\n",
       "    </tr>\n",
       "    <tr>\n",
       "      <th>1</th>\n",
       "      <td>Hyundai Creta 1.6 CRDi SX Option</td>\n",
       "      <td>Pune</td>\n",
       "      <td>2015</td>\n",
       "      <td>41000</td>\n",
       "      <td>Diesel</td>\n",
       "      <td>Manual</td>\n",
       "      <td>First</td>\n",
       "      <td>19.67 kmpl</td>\n",
       "      <td>1582 CC</td>\n",
       "      <td>126.2 bhp</td>\n",
       "      <td>5.0</td>\n",
       "      <td>12.50</td>\n",
       "    </tr>\n",
       "    <tr>\n",
       "      <th>2</th>\n",
       "      <td>Honda Jazz V</td>\n",
       "      <td>Chennai</td>\n",
       "      <td>2011</td>\n",
       "      <td>46000</td>\n",
       "      <td>Petrol</td>\n",
       "      <td>Manual</td>\n",
       "      <td>First</td>\n",
       "      <td>18.2 kmpl</td>\n",
       "      <td>1199 CC</td>\n",
       "      <td>88.7 bhp</td>\n",
       "      <td>5.0</td>\n",
       "      <td>4.50</td>\n",
       "    </tr>\n",
       "    <tr>\n",
       "      <th>3</th>\n",
       "      <td>Maruti Ertiga VDI</td>\n",
       "      <td>Chennai</td>\n",
       "      <td>2012</td>\n",
       "      <td>87000</td>\n",
       "      <td>Diesel</td>\n",
       "      <td>Manual</td>\n",
       "      <td>First</td>\n",
       "      <td>20.77 kmpl</td>\n",
       "      <td>1248 CC</td>\n",
       "      <td>88.76 bhp</td>\n",
       "      <td>7.0</td>\n",
       "      <td>6.00</td>\n",
       "    </tr>\n",
       "    <tr>\n",
       "      <th>4</th>\n",
       "      <td>Audi A4 New 2.0 TDI Multitronic</td>\n",
       "      <td>Coimbatore</td>\n",
       "      <td>2013</td>\n",
       "      <td>40670</td>\n",
       "      <td>Diesel</td>\n",
       "      <td>Automatic</td>\n",
       "      <td>Second</td>\n",
       "      <td>15.2 kmpl</td>\n",
       "      <td>1968 CC</td>\n",
       "      <td>140.8 bhp</td>\n",
       "      <td>5.0</td>\n",
       "      <td>17.74</td>\n",
       "    </tr>\n",
       "  </tbody>\n",
       "</table>\n",
       "</div>"
      ],
      "text/plain": [
       "                               Name    Location  Year  Kilometers_Driven  \\\n",
       "0            Maruti Wagon R LXI CNG      Mumbai  2010              72000   \n",
       "1  Hyundai Creta 1.6 CRDi SX Option        Pune  2015              41000   \n",
       "2                      Honda Jazz V     Chennai  2011              46000   \n",
       "3                 Maruti Ertiga VDI     Chennai  2012              87000   \n",
       "4   Audi A4 New 2.0 TDI Multitronic  Coimbatore  2013              40670   \n",
       "\n",
       "  Fuel_Type Transmission Owner_Type     Mileage   Engine      Power  Seats  \\\n",
       "0       CNG       Manual      First  26.6 km/kg   998 CC  58.16 bhp    5.0   \n",
       "1    Diesel       Manual      First  19.67 kmpl  1582 CC  126.2 bhp    5.0   \n",
       "2    Petrol       Manual      First   18.2 kmpl  1199 CC   88.7 bhp    5.0   \n",
       "3    Diesel       Manual      First  20.77 kmpl  1248 CC  88.76 bhp    7.0   \n",
       "4    Diesel    Automatic     Second   15.2 kmpl  1968 CC  140.8 bhp    5.0   \n",
       "\n",
       "   Price  \n",
       "0   1.75  \n",
       "1  12.50  \n",
       "2   4.50  \n",
       "3   6.00  \n",
       "4  17.74  "
      ]
     },
     "execution_count": 947,
     "metadata": {},
     "output_type": "execute_result"
    }
   ],
   "source": [
    "data_train.head()"
   ]
  },
  {
   "cell_type": "markdown",
   "metadata": {},
   "source": [
    "## Univariate Analysis"
   ]
  },
  {
   "cell_type": "markdown",
   "metadata": {},
   "source": [
    "### location"
   ]
  },
  {
   "cell_type": "code",
   "execution_count": 948,
   "metadata": {},
   "outputs": [
    {
     "data": {
      "text/plain": [
       "array(['Mumbai', 'Pune', 'Chennai', 'Coimbatore', 'Hyderabad', 'Jaipur',\n",
       "       'Kochi', 'Kolkata', 'Delhi', 'Bangalore', 'Ahmedabad'],\n",
       "      dtype=object)"
      ]
     },
     "execution_count": 948,
     "metadata": {},
     "output_type": "execute_result"
    }
   ],
   "source": [
    "data_train.Location.unique()"
   ]
  },
  {
   "cell_type": "markdown",
   "metadata": {},
   "source": [
    "### data distribution among cities"
   ]
  },
  {
   "cell_type": "code",
   "execution_count": 949,
   "metadata": {},
   "outputs": [
    {
     "data": {
      "image/png": "[encoded data removed]",
      "text/plain": [
       "<Figure size 720x360 with 1 Axes>"
      ]
     },
     "metadata": {
      "needs_background": "light"
     },
     "output_type": "display_data"
    }
   ],
   "source": [
    "import matplotlib.pyplot as plt\n",
    "data_train.Location.value_counts().plot(kind='bar')\n",
    "plt.show()"
   ]
  },
  {
   "cell_type": "markdown",
   "metadata": {},
   "source": [
    "### Brand Name"
   ]
  },
  {
   "cell_type": "code",
   "execution_count": 950,
   "metadata": {},
   "outputs": [],
   "source": [
    "brand_name=[]\n",
    "model_name=[]\n",
    "for index,rows in data_train.iterrows():\n",
    "    brand_name.append(rows['Name'].split()[0].lower().replace('-',''))\n",
    "    model_name.append(rows['Name'].split()[1].lower())"
   ]
  },
  {
   "cell_type": "code",
   "execution_count": 951,
   "metadata": {},
   "outputs": [],
   "source": [
    "data_train['Brand']=brand_name"
   ]
  },
  {
   "cell_type": "code",
   "execution_count": 952,
   "metadata": {},
   "outputs": [
    {
     "data": {
      "image/png": "[encoded data removed]",
      "text/plain": [
       "<Figure size 720x360 with 1 Axes>"
      ]
     },
     "metadata": {
      "needs_background": "light"
     },
     "output_type": "display_data"
    }
   ],
   "source": [
    "plt.rcParams[\"figure.figsize\"]=[10,5]\n",
    "data_train.Brand.value_counts().plot(kind='bar')\n",
    "plt.xlabel('Brand Name')\n",
    "plt.ylabel('No of cars')\n",
    "plt.show()"
   ]
  },
  {
   "cell_type": "markdown",
   "metadata": {},
   "source": [
    "maruthi and hyundai arre the highest no of cars in the dataset"
   ]
  },
  {
   "cell_type": "markdown",
   "metadata": {},
   "source": [
    "### Year"
   ]
  },
  {
   "cell_type": "code",
   "execution_count": 953,
   "metadata": {},
   "outputs": [
    {
     "data": {
      "text/plain": [
       "count    6019.000000\n",
       "mean     2013.358199\n",
       "std         3.269742\n",
       "min      1998.000000\n",
       "25%      2011.000000\n",
       "50%      2014.000000\n",
       "75%      2016.000000\n",
       "max      2019.000000\n",
       "Name: Year, dtype: float64"
      ]
     },
     "execution_count": 953,
     "metadata": {},
     "output_type": "execute_result"
    }
   ],
   "source": [
    "data_train.Year.describe()"
   ]
  },
  {
   "cell_type": "markdown",
   "metadata": {},
   "source": [
    "we have data from 1998 to 2019"
   ]
  },
  {
   "cell_type": "code",
   "execution_count": 954,
   "metadata": {},
   "outputs": [
    {
     "data": {
      "image/png": "[encoded data removed]",
      "text/plain": [
       "<Figure size 720x360 with 1 Axes>"
      ]
     },
     "metadata": {
      "needs_background": "light"
     },
     "output_type": "display_data"
    }
   ],
   "source": [
    "data_train.Year.value_counts().plot(kind='bar')\n",
    "plt.xlabel('Brand Value')\n",
    "plt.ylabel('No of cars')\n",
    "plt.show()"
   ]
  },
  {
   "cell_type": "markdown",
   "metadata": {},
   "source": [
    "more data is available from 2010-2018"
   ]
  },
  {
   "cell_type": "code",
   "execution_count": 955,
   "metadata": {},
   "outputs": [],
   "source": [
    "import numpy as np\n",
    "p=[]\n",
    "for i in range(1,101,1):\n",
    "    p.append(np.percentile(data_train.Kilometers_Driven,i))"
   ]
  },
  {
   "cell_type": "code",
   "execution_count": 956,
   "metadata": {},
   "outputs": [
    {
     "data": {
      "image/png": "[encoded data removed]",
      "text/plain": [
       "<Figure size 720x360 with 1 Axes>"
      ]
     },
     "metadata": {
      "needs_background": "light"
     },
     "output_type": "display_data"
    }
   ],
   "source": [
    "plt.plot(p)\n",
    "plt.xlabel('Brand Name')\n",
    "plt.ylabel('No of cars')\n",
    "plt.show()"
   ]
  },
  {
   "cell_type": "code",
   "execution_count": 957,
   "metadata": {},
   "outputs": [
    {
     "data": {
      "image/png": "[encoded data removed]",
      "text/plain": [
       "<Figure size 720x360 with 1 Axes>"
      ]
     },
     "metadata": {
      "needs_background": "light"
     },
     "output_type": "display_data"
    }
   ],
   "source": [
    "import numpy as np\n",
    "p=[]\n",
    "for i in range(90,101,1):\n",
    "    p.append(np.percentile(data_train.Kilometers_Driven,i))\n",
    "    \n",
    "plt.plot(p)\n",
    "plt.xlabel('Brand Name')\n",
    "plt.ylabel('No of cars')\n",
    "plt.show()"
   ]
  },
  {
   "cell_type": "markdown",
   "metadata": {},
   "source": [
    "only one value is around 60L,which could be an outlier"
   ]
  },
  {
   "cell_type": "code",
   "execution_count": 958,
   "metadata": {},
   "outputs": [
    {
     "data": {
      "text/html": [
       "<div>\n",
       "<style scoped>\n",
       "    .dataframe tbody tr th:only-of-type {\n",
       "        vertical-align: middle;\n",
       "    }\n",
       "\n",
       "    .dataframe tbody tr th {\n",
       "        vertical-align: top;\n",
       "    }\n",
       "\n",
       "    .dataframe thead th {\n",
       "        text-align: right;\n",
       "    }\n",
       "</style>\n",
       "<table border=\"1\" class=\"dataframe\">\n",
       "  <thead>\n",
       "    <tr style=\"text-align: right;\">\n",
       "      <th></th>\n",
       "      <th>Name</th>\n",
       "      <th>Location</th>\n",
       "      <th>Year</th>\n",
       "      <th>Kilometers_Driven</th>\n",
       "      <th>Fuel_Type</th>\n",
       "      <th>Transmission</th>\n",
       "      <th>Owner_Type</th>\n",
       "      <th>Mileage</th>\n",
       "      <th>Engine</th>\n",
       "      <th>Power</th>\n",
       "      <th>Seats</th>\n",
       "      <th>Price</th>\n",
       "      <th>Brand</th>\n",
       "    </tr>\n",
       "  </thead>\n",
       "  <tbody>\n",
       "    <tr>\n",
       "      <th>340</th>\n",
       "      <td>Skoda Octavia Ambition Plus 2.0 TDI AT</td>\n",
       "      <td>Kolkata</td>\n",
       "      <td>2013</td>\n",
       "      <td>775000</td>\n",
       "      <td>Diesel</td>\n",
       "      <td>Automatic</td>\n",
       "      <td>First</td>\n",
       "      <td>19.3 kmpl</td>\n",
       "      <td>1968 CC</td>\n",
       "      <td>141 bhp</td>\n",
       "      <td>5.0</td>\n",
       "      <td>7.5</td>\n",
       "      <td>skoda</td>\n",
       "    </tr>\n",
       "    <tr>\n",
       "      <th>358</th>\n",
       "      <td>Hyundai i10 Magna 1.2</td>\n",
       "      <td>Chennai</td>\n",
       "      <td>2009</td>\n",
       "      <td>620000</td>\n",
       "      <td>Petrol</td>\n",
       "      <td>Manual</td>\n",
       "      <td>First</td>\n",
       "      <td>20.36 kmpl</td>\n",
       "      <td>1197 CC</td>\n",
       "      <td>78.9 bhp</td>\n",
       "      <td>5.0</td>\n",
       "      <td>2.7</td>\n",
       "      <td>hyundai</td>\n",
       "    </tr>\n",
       "    <tr>\n",
       "      <th>1860</th>\n",
       "      <td>Volkswagen Vento Diesel Highline</td>\n",
       "      <td>Chennai</td>\n",
       "      <td>2013</td>\n",
       "      <td>720000</td>\n",
       "      <td>Diesel</td>\n",
       "      <td>Manual</td>\n",
       "      <td>First</td>\n",
       "      <td>20.54 kmpl</td>\n",
       "      <td>1598 CC</td>\n",
       "      <td>103.6 bhp</td>\n",
       "      <td>5.0</td>\n",
       "      <td>5.9</td>\n",
       "      <td>volkswagen</td>\n",
       "    </tr>\n",
       "    <tr>\n",
       "      <th>2328</th>\n",
       "      <td>BMW X5 xDrive 30d M Sport</td>\n",
       "      <td>Chennai</td>\n",
       "      <td>2017</td>\n",
       "      <td>6500000</td>\n",
       "      <td>Diesel</td>\n",
       "      <td>Automatic</td>\n",
       "      <td>First</td>\n",
       "      <td>15.97 kmpl</td>\n",
       "      <td>2993 CC</td>\n",
       "      <td>258 bhp</td>\n",
       "      <td>5.0</td>\n",
       "      <td>65.0</td>\n",
       "      <td>bmw</td>\n",
       "    </tr>\n",
       "  </tbody>\n",
       "</table>\n",
       "</div>"
      ],
      "text/plain": [
       "                                        Name Location  Year  \\\n",
       "340   Skoda Octavia Ambition Plus 2.0 TDI AT  Kolkata  2013   \n",
       "358                    Hyundai i10 Magna 1.2  Chennai  2009   \n",
       "1860        Volkswagen Vento Diesel Highline  Chennai  2013   \n",
       "2328               BMW X5 xDrive 30d M Sport  Chennai  2017   \n",
       "\n",
       "      Kilometers_Driven Fuel_Type Transmission Owner_Type     Mileage  \\\n",
       "340              775000    Diesel    Automatic      First   19.3 kmpl   \n",
       "358              620000    Petrol       Manual      First  20.36 kmpl   \n",
       "1860             720000    Diesel       Manual      First  20.54 kmpl   \n",
       "2328            6500000    Diesel    Automatic      First  15.97 kmpl   \n",
       "\n",
       "       Engine      Power  Seats  Price       Brand  \n",
       "340   1968 CC    141 bhp    5.0    7.5       skoda  \n",
       "358   1197 CC   78.9 bhp    5.0    2.7     hyundai  \n",
       "1860  1598 CC  103.6 bhp    5.0    5.9  volkswagen  \n",
       "2328  2993 CC    258 bhp    5.0   65.0         bmw  "
      ]
     },
     "execution_count": 958,
     "metadata": {},
     "output_type": "execute_result"
    }
   ],
   "source": [
    "data_train[data_train.Kilometers_Driven>=600000]"
   ]
  },
  {
   "cell_type": "markdown",
   "metadata": {},
   "source": [
    "### Fuel Type"
   ]
  },
  {
   "cell_type": "code",
   "execution_count": 959,
   "metadata": {},
   "outputs": [
    {
     "data": {
      "text/plain": [
       "Diesel      3205\n",
       "Petrol      2746\n",
       "CNG           56\n",
       "LPG           10\n",
       "Electric       2\n",
       "Name: Fuel_Type, dtype: int64"
      ]
     },
     "execution_count": 959,
     "metadata": {},
     "output_type": "execute_result"
    }
   ],
   "source": [
    "data_train.Fuel_Type.value_counts()"
   ]
  },
  {
   "cell_type": "markdown",
   "metadata": {},
   "source": [
    "More cars are of diesel and petrol type"
   ]
  },
  {
   "cell_type": "markdown",
   "metadata": {},
   "source": [
    "### Transmission"
   ]
  },
  {
   "cell_type": "code",
   "execution_count": 960,
   "metadata": {},
   "outputs": [
    {
     "data": {
      "text/plain": [
       "Manual       4299\n",
       "Automatic    1720\n",
       "Name: Transmission, dtype: int64"
      ]
     },
     "execution_count": 960,
     "metadata": {},
     "output_type": "execute_result"
    }
   ],
   "source": [
    "data_train.Transmission.value_counts()"
   ]
  },
  {
   "cell_type": "markdown",
   "metadata": {},
   "source": [
    "### Owner Type"
   ]
  },
  {
   "cell_type": "code",
   "execution_count": 961,
   "metadata": {},
   "outputs": [
    {
     "data": {
      "text/plain": [
       "First             4929\n",
       "Second             968\n",
       "Third              113\n",
       "Fourth & Above       9\n",
       "Name: Owner_Type, dtype: int64"
      ]
     },
     "execution_count": 961,
     "metadata": {},
     "output_type": "execute_result"
    }
   ],
   "source": [
    "data_train.Owner_Type.value_counts()"
   ]
  },
  {
   "cell_type": "markdown",
   "metadata": {},
   "source": [
    "## Removing Outliers"
   ]
  },
  {
   "cell_type": "markdown",
   "metadata": {},
   "source": [
    "## Null Columns"
   ]
  },
  {
   "cell_type": "code",
   "execution_count": 962,
   "metadata": {},
   "outputs": [
    {
     "name": "stdout",
     "output_type": "stream",
     "text": [
      "Mileage Has Null values count :  2\n",
      "Engine Has Null values count :  36\n",
      "Power Has Null values count :  36\n",
      "Seats Has Null values count :  42\n"
     ]
    }
   ],
   "source": [
    "for i in data_train.columns:\n",
    "    if len(data_train[data_train[i].isnull()].index)>0:\n",
    "        print(i,'Has Null values count : ',len(data_train[data_train[i].isnull()].index))"
   ]
  },
  {
   "cell_type": "markdown",
   "metadata": {},
   "source": [
    "### Mileage"
   ]
  },
  {
   "cell_type": "code",
   "execution_count": 963,
   "metadata": {},
   "outputs": [
    {
     "data": {
      "text/html": [
       "<div>\n",
       "<style scoped>\n",
       "    .dataframe tbody tr th:only-of-type {\n",
       "        vertical-align: middle;\n",
       "    }\n",
       "\n",
       "    .dataframe tbody tr th {\n",
       "        vertical-align: top;\n",
       "    }\n",
       "\n",
       "    .dataframe thead th {\n",
       "        text-align: right;\n",
       "    }\n",
       "</style>\n",
       "<table border=\"1\" class=\"dataframe\">\n",
       "  <thead>\n",
       "    <tr style=\"text-align: right;\">\n",
       "      <th></th>\n",
       "      <th>Name</th>\n",
       "      <th>Location</th>\n",
       "      <th>Year</th>\n",
       "      <th>Kilometers_Driven</th>\n",
       "      <th>Fuel_Type</th>\n",
       "      <th>Transmission</th>\n",
       "      <th>Owner_Type</th>\n",
       "      <th>Mileage</th>\n",
       "      <th>Engine</th>\n",
       "      <th>Power</th>\n",
       "      <th>Seats</th>\n",
       "      <th>Price</th>\n",
       "      <th>Brand</th>\n",
       "    </tr>\n",
       "  </thead>\n",
       "  <tbody>\n",
       "    <tr>\n",
       "      <th>0</th>\n",
       "      <td>Maruti Wagon R LXI CNG</td>\n",
       "      <td>Mumbai</td>\n",
       "      <td>2010</td>\n",
       "      <td>72000</td>\n",
       "      <td>CNG</td>\n",
       "      <td>Manual</td>\n",
       "      <td>First</td>\n",
       "      <td>26.6 km/kg</td>\n",
       "      <td>998 CC</td>\n",
       "      <td>58.16 bhp</td>\n",
       "      <td>5.0</td>\n",
       "      <td>1.75</td>\n",
       "      <td>maruti</td>\n",
       "    </tr>\n",
       "    <tr>\n",
       "      <th>1</th>\n",
       "      <td>Hyundai Creta 1.6 CRDi SX Option</td>\n",
       "      <td>Pune</td>\n",
       "      <td>2015</td>\n",
       "      <td>41000</td>\n",
       "      <td>Diesel</td>\n",
       "      <td>Manual</td>\n",
       "      <td>First</td>\n",
       "      <td>19.67 kmpl</td>\n",
       "      <td>1582 CC</td>\n",
       "      <td>126.2 bhp</td>\n",
       "      <td>5.0</td>\n",
       "      <td>12.50</td>\n",
       "      <td>hyundai</td>\n",
       "    </tr>\n",
       "    <tr>\n",
       "      <th>2</th>\n",
       "      <td>Honda Jazz V</td>\n",
       "      <td>Chennai</td>\n",
       "      <td>2011</td>\n",
       "      <td>46000</td>\n",
       "      <td>Petrol</td>\n",
       "      <td>Manual</td>\n",
       "      <td>First</td>\n",
       "      <td>18.2 kmpl</td>\n",
       "      <td>1199 CC</td>\n",
       "      <td>88.7 bhp</td>\n",
       "      <td>5.0</td>\n",
       "      <td>4.50</td>\n",
       "      <td>honda</td>\n",
       "    </tr>\n",
       "    <tr>\n",
       "      <th>3</th>\n",
       "      <td>Maruti Ertiga VDI</td>\n",
       "      <td>Chennai</td>\n",
       "      <td>2012</td>\n",
       "      <td>87000</td>\n",
       "      <td>Diesel</td>\n",
       "      <td>Manual</td>\n",
       "      <td>First</td>\n",
       "      <td>20.77 kmpl</td>\n",
       "      <td>1248 CC</td>\n",
       "      <td>88.76 bhp</td>\n",
       "      <td>7.0</td>\n",
       "      <td>6.00</td>\n",
       "      <td>maruti</td>\n",
       "    </tr>\n",
       "    <tr>\n",
       "      <th>4</th>\n",
       "      <td>Audi A4 New 2.0 TDI Multitronic</td>\n",
       "      <td>Coimbatore</td>\n",
       "      <td>2013</td>\n",
       "      <td>40670</td>\n",
       "      <td>Diesel</td>\n",
       "      <td>Automatic</td>\n",
       "      <td>Second</td>\n",
       "      <td>15.2 kmpl</td>\n",
       "      <td>1968 CC</td>\n",
       "      <td>140.8 bhp</td>\n",
       "      <td>5.0</td>\n",
       "      <td>17.74</td>\n",
       "      <td>audi</td>\n",
       "    </tr>\n",
       "  </tbody>\n",
       "</table>\n",
       "</div>"
      ],
      "text/plain": [
       "                               Name    Location  Year  Kilometers_Driven  \\\n",
       "0            Maruti Wagon R LXI CNG      Mumbai  2010              72000   \n",
       "1  Hyundai Creta 1.6 CRDi SX Option        Pune  2015              41000   \n",
       "2                      Honda Jazz V     Chennai  2011              46000   \n",
       "3                 Maruti Ertiga VDI     Chennai  2012              87000   \n",
       "4   Audi A4 New 2.0 TDI Multitronic  Coimbatore  2013              40670   \n",
       "\n",
       "  Fuel_Type Transmission Owner_Type     Mileage   Engine      Power  Seats  \\\n",
       "0       CNG       Manual      First  26.6 km/kg   998 CC  58.16 bhp    5.0   \n",
       "1    Diesel       Manual      First  19.67 kmpl  1582 CC  126.2 bhp    5.0   \n",
       "2    Petrol       Manual      First   18.2 kmpl  1199 CC   88.7 bhp    5.0   \n",
       "3    Diesel       Manual      First  20.77 kmpl  1248 CC  88.76 bhp    7.0   \n",
       "4    Diesel    Automatic     Second   15.2 kmpl  1968 CC  140.8 bhp    5.0   \n",
       "\n",
       "   Price    Brand  \n",
       "0   1.75   maruti  \n",
       "1  12.50  hyundai  \n",
       "2   4.50    honda  \n",
       "3   6.00   maruti  \n",
       "4  17.74     audi  "
      ]
     },
     "execution_count": 963,
     "metadata": {},
     "output_type": "execute_result"
    }
   ],
   "source": [
    "data_train.head()"
   ]
  },
  {
   "cell_type": "code",
   "execution_count": 964,
   "metadata": {},
   "outputs": [
    {
     "data": {
      "text/html": [
       "<div>\n",
       "<style scoped>\n",
       "    .dataframe tbody tr th:only-of-type {\n",
       "        vertical-align: middle;\n",
       "    }\n",
       "\n",
       "    .dataframe tbody tr th {\n",
       "        vertical-align: top;\n",
       "    }\n",
       "\n",
       "    .dataframe thead th {\n",
       "        text-align: right;\n",
       "    }\n",
       "</style>\n",
       "<table border=\"1\" class=\"dataframe\">\n",
       "  <thead>\n",
       "    <tr style=\"text-align: right;\">\n",
       "      <th></th>\n",
       "      <th>Name</th>\n",
       "      <th>Location</th>\n",
       "      <th>Year</th>\n",
       "      <th>Kilometers_Driven</th>\n",
       "      <th>Fuel_Type</th>\n",
       "      <th>Transmission</th>\n",
       "      <th>Owner_Type</th>\n",
       "      <th>Mileage</th>\n",
       "      <th>Engine</th>\n",
       "      <th>Power</th>\n",
       "      <th>Seats</th>\n",
       "      <th>Price</th>\n",
       "      <th>Brand</th>\n",
       "    </tr>\n",
       "  </thead>\n",
       "  <tbody>\n",
       "    <tr>\n",
       "      <th>4446</th>\n",
       "      <td>Mahindra E Verito D4</td>\n",
       "      <td>Chennai</td>\n",
       "      <td>2016</td>\n",
       "      <td>50000</td>\n",
       "      <td>Electric</td>\n",
       "      <td>Automatic</td>\n",
       "      <td>First</td>\n",
       "      <td>NaN</td>\n",
       "      <td>72 CC</td>\n",
       "      <td>41 bhp</td>\n",
       "      <td>5.0</td>\n",
       "      <td>13.00</td>\n",
       "      <td>mahindra</td>\n",
       "    </tr>\n",
       "    <tr>\n",
       "      <th>4904</th>\n",
       "      <td>Toyota Prius 2009-2016 Z4</td>\n",
       "      <td>Mumbai</td>\n",
       "      <td>2011</td>\n",
       "      <td>44000</td>\n",
       "      <td>Electric</td>\n",
       "      <td>Automatic</td>\n",
       "      <td>First</td>\n",
       "      <td>NaN</td>\n",
       "      <td>1798 CC</td>\n",
       "      <td>73 bhp</td>\n",
       "      <td>5.0</td>\n",
       "      <td>12.75</td>\n",
       "      <td>toyota</td>\n",
       "    </tr>\n",
       "  </tbody>\n",
       "</table>\n",
       "</div>"
      ],
      "text/plain": [
       "                           Name Location  Year  Kilometers_Driven Fuel_Type  \\\n",
       "4446       Mahindra E Verito D4  Chennai  2016              50000  Electric   \n",
       "4904  Toyota Prius 2009-2016 Z4   Mumbai  2011              44000  Electric   \n",
       "\n",
       "     Transmission Owner_Type Mileage   Engine   Power  Seats  Price     Brand  \n",
       "4446    Automatic      First     NaN    72 CC  41 bhp    5.0  13.00  mahindra  \n",
       "4904    Automatic      First     NaN  1798 CC  73 bhp    5.0  12.75    toyota  "
      ]
     },
     "execution_count": 964,
     "metadata": {},
     "output_type": "execute_result"
    }
   ],
   "source": [
    "data_train[data_train['Mileage'].isnull()]"
   ]
  },
  {
   "cell_type": "code",
   "execution_count": 965,
   "metadata": {},
   "outputs": [],
   "source": [
    "data_train['is_electric']=data_train['Fuel_Type'].apply(lambda x:1 if x=='Electric' else 0)"
   ]
  },
  {
   "cell_type": "code",
   "execution_count": 966,
   "metadata": {},
   "outputs": [],
   "source": [
    "Mileage_cleaned=[]\n",
    "Engine_cleaned=[]\n",
    "Power_cleaned=[]\n",
    "for index, rows in data_train.iterrows():\n",
    "    try:\n",
    "        Mileage_cleaned.append(rows['Mileage'].split()[0])\n",
    "    except:\n",
    "        Mileage_cleaned.append(0)\n",
    "    try:\n",
    "        Engine_cleaned.append(rows['Engine'].split()[0])\n",
    "    except:\n",
    "        Engine_cleaned.append(0)\n",
    "    try:\n",
    "        if rows['Power'].split()[0]=='null':\n",
    "            Power_cleaned.append(0)\n",
    "        else:\n",
    "            Power_cleaned.append(rows['Power'].split()[0])\n",
    "    except:\n",
    "        Power_cleaned.append(0)"
   ]
  },
  {
   "cell_type": "code",
   "execution_count": 967,
   "metadata": {},
   "outputs": [],
   "source": [
    "data_train['Mileage_cleaned']=Mileage_cleaned\n",
    "data_train.Mileage_cleaned=data_train.Mileage_cleaned.astype(float)\n",
    "data_train['Engine_cleaned']=Engine_cleaned\n",
    "data_train.Engine_cleaned=data_train.Engine_cleaned.astype(float)\n",
    "data_train['Power_cleaned']=Power_cleaned\n",
    "data_train.Power_cleaned=data_train.Power_cleaned.astype(float)"
   ]
  },
  {
   "cell_type": "markdown",
   "metadata": {},
   "source": [
    "### Engine"
   ]
  },
  {
   "cell_type": "code",
   "execution_count": 968,
   "metadata": {},
   "outputs": [
    {
     "data": {
      "text/plain": [
       "13.019018595041299"
      ]
     },
     "execution_count": 968,
     "metadata": {},
     "output_type": "execute_result"
    }
   ],
   "source": [
    "data_train[ (data_train.Engine_cleaned.between(2179,3000))]['Mileage_cleaned'].mean()"
   ]
  },
  {
   "cell_type": "code",
   "execution_count": 969,
   "metadata": {},
   "outputs": [],
   "source": [
    "Mileage_missing=[]\n",
    "for i,j in data_train[(data_train['Mileage_cleaned']==0)].iterrows():\n",
    "    if j.Engine_cleaned!=0:\n",
    "        Mileage_missing.append(data_train[(data_train.Power_cleaned.between(j.Power_cleaned-50,j.Power_cleaned+50)) & (data_train.Engine_cleaned.between(j.Engine_cleaned-50,j.Engine_cleaned+50))] ['Power_cleaned'].mean())\n",
    "    else:\n",
    "        Mileage_missing.append(data_train[(data_train.Engine_cleaned.between(j.Engine_cleaned-100,j.Engine_cleaned+100))]['Mileage_cleaned'].mean())\n",
    "else:\n",
    "    if j.Power_cleaned!=0:\n",
    "        Mileage_missing.append(data_train[(data_train.Power_cleaned.between(j.Power_cleaned-50,j.Power_cleaned+50))]['Mileage_cleaned'].mean())\n",
    "    else:\n",
    "        Mileage_missing.append(0)"
   ]
  },
  {
   "cell_type": "code",
   "execution_count": 970,
   "metadata": {},
   "outputs": [],
   "source": [
    "data_train.to_pickle('data_train')"
   ]
  },
  {
   "cell_type": "code",
   "execution_count": 971,
   "metadata": {},
   "outputs": [],
   "source": [
    "import pandas as pd\n",
    "data_train=pd.read_pickle('data_train')"
   ]
  },
  {
   "cell_type": "markdown",
   "metadata": {},
   "source": [
    "### Filling up null values for Mileage"
   ]
  },
  {
   "cell_type": "code",
   "execution_count": 972,
   "metadata": {},
   "outputs": [
    {
     "name": "stderr",
     "output_type": "stream",
     "text": [
      "C:\\Users\\NIKHIL\\anaconda3\\lib\\site-packages\\pandas\\core\\indexing.py:670: SettingWithCopyWarning: \n",
      "A value is trying to be set on a copy of a slice from a DataFrame\n",
      "\n",
      "See the caveats in the documentation: https://pandas.pydata.org/pandas-docs/stable/user_guide/indexing.html#returning-a-view-versus-a-copy\n",
      "  self._setitem_with_indexer(indexer, value)\n"
     ]
    }
   ],
   "source": [
    "j=0\n",
    "for i in data_train[(data_train['Mileage_cleaned']==0)]['Mileage_cleaned'].index.tolist():\n",
    "    data_train['Mileage_cleaned'].iloc[i]=Mileage_missing[j]\n",
    "    j+=1"
   ]
  },
  {
   "cell_type": "code",
   "execution_count": 973,
   "metadata": {},
   "outputs": [
    {
     "name": "stderr",
     "output_type": "stream",
     "text": [
      "C:\\Users\\NIKHIL\\anaconda3\\lib\\site-packages\\ipykernel_launcher.py:1: SettingWithCopyWarning: \n",
      "A value is trying to be set on a copy of a slice from a DataFrame\n",
      "\n",
      "See the caveats in the documentation: https://pandas.pydata.org/pandas-docs/stable/user_guide/indexing.html#returning-a-view-versus-a-copy\n",
      "  \"\"\"Entry point for launching an IPython kernel.\n"
     ]
    }
   ],
   "source": [
    "data_train.Mileage_cleaned[data_train.Mileage_cleaned==0] = data_train['Mileage_cleaned'].mean()"
   ]
  },
  {
   "cell_type": "code",
   "execution_count": 974,
   "metadata": {},
   "outputs": [
    {
     "data": {
      "text/plain": [
       "count    6019.000000\n",
       "mean       18.925764\n",
       "std        10.600605\n",
       "min         1.205128\n",
       "25%        15.300000\n",
       "50%        18.200000\n",
       "75%        21.100000\n",
       "max       262.600000\n",
       "Name: Mileage_cleaned, dtype: float64"
      ]
     },
     "execution_count": 974,
     "metadata": {},
     "output_type": "execute_result"
    }
   ],
   "source": [
    "data_train['Mileage_cleaned'].describe()"
   ]
  },
  {
   "cell_type": "code",
   "execution_count": 975,
   "metadata": {},
   "outputs": [
    {
     "name": "stdout",
     "output_type": "stream",
     "text": [
      "Mileage has null values count :  2\n",
      "Engine has null values count :  36\n",
      "Power has null values count :  36\n",
      "Seats has null values count :  42\n"
     ]
    }
   ],
   "source": [
    "for i in data_train.columns:\n",
    "    if len(data_train[data_train[i].isnull()].index)>0:\n",
    "           print(i,'has null values count : ',len(data_train[data_train[i].isnull()].index))"
   ]
  },
  {
   "cell_type": "markdown",
   "metadata": {},
   "source": [
    "### Filling up missing values for Engine"
   ]
  },
  {
   "cell_type": "code",
   "execution_count": 976,
   "metadata": {},
   "outputs": [],
   "source": [
    "pm=data_train[(data_train['Fuel_Type']=='Petrol') & (data_train['Transmission']=='Manual')].Engine_cleaned.mean()\n",
    "dm=data_train[(data_train['Fuel_Type']=='Diesel') & (data_train['Transmission']=='Manual')].Engine_cleaned.mean()\n",
    "da=data_train[(data_train['Fuel_Type']=='Diesel') & (data_train['Transmission']=='Automatic')].Engine_cleaned.mean()\n",
    "pa=data_train[(data_train['Fuel_Type']=='Petrol') & (data_train['Transmission']=='Automatic')].Engine_cleaned.mean()"
   ]
  },
  {
   "cell_type": "code",
   "execution_count": 977,
   "metadata": {},
   "outputs": [],
   "source": [
    "data_train.Engine_cleaned.loc[(data_train['Fuel_Type']=='Petrol') & (data_train['Transmission']=='Manual') & (data_train['Engine_cleaned']==0)]=pm\n",
    "data_train.Engine_cleaned.loc[(data_train['Fuel_Type']=='Diesel') & (data_train['Transmission']=='Manual') & (data_train['Engine_cleaned']==0)]=dm\n",
    "data_train.Engine_cleaned.loc[(data_train['Fuel_Type']=='Diesel') & (data_train['Transmission']=='Automatic') & (data_train['Engine_cleaned']==0)]=da\n",
    "data_train.Engine_cleaned.loc[(data_train['Fuel_Type']=='Petrol') & (data_train['Transmission']=='Automatic') & (data_train['Engine_cleaned']==0)]=pa"
   ]
  },
  {
   "cell_type": "code",
   "execution_count": 978,
   "metadata": {},
   "outputs": [
    {
     "data": {
      "text/plain": [
       "count    6019.000000\n",
       "mean     1620.273483\n",
       "std       600.566802\n",
       "min        72.000000\n",
       "25%      1198.000000\n",
       "50%      1493.000000\n",
       "75%      1984.000000\n",
       "max      5998.000000\n",
       "Name: Engine_cleaned, dtype: float64"
      ]
     },
     "execution_count": 978,
     "metadata": {},
     "output_type": "execute_result"
    }
   ],
   "source": [
    "data_train['Engine_cleaned'].describe()"
   ]
  },
  {
   "cell_type": "markdown",
   "metadata": {},
   "source": [
    "### Filling up missing values for Power"
   ]
  },
  {
   "cell_type": "code",
   "execution_count": 979,
   "metadata": {},
   "outputs": [
    {
     "data": {
      "text/html": [
       "<div>\n",
       "<style scoped>\n",
       "    .dataframe tbody tr th:only-of-type {\n",
       "        vertical-align: middle;\n",
       "    }\n",
       "\n",
       "    .dataframe tbody tr th {\n",
       "        vertical-align: top;\n",
       "    }\n",
       "\n",
       "    .dataframe thead th {\n",
       "        text-align: right;\n",
       "    }\n",
       "</style>\n",
       "<table border=\"1\" class=\"dataframe\">\n",
       "  <thead>\n",
       "    <tr style=\"text-align: right;\">\n",
       "      <th></th>\n",
       "      <th>Name</th>\n",
       "      <th>Location</th>\n",
       "      <th>Year</th>\n",
       "      <th>Kilometers_Driven</th>\n",
       "      <th>Fuel_Type</th>\n",
       "      <th>Transmission</th>\n",
       "      <th>Owner_Type</th>\n",
       "      <th>Mileage</th>\n",
       "      <th>Engine</th>\n",
       "      <th>Power</th>\n",
       "      <th>Seats</th>\n",
       "      <th>Price</th>\n",
       "      <th>Brand</th>\n",
       "      <th>is_electric</th>\n",
       "      <th>Mileage_cleaned</th>\n",
       "      <th>Engine_cleaned</th>\n",
       "      <th>Power_cleaned</th>\n",
       "    </tr>\n",
       "  </thead>\n",
       "  <tbody>\n",
       "    <tr>\n",
       "      <th>76</th>\n",
       "      <td>Ford Fiesta 1.4 SXi TDCi</td>\n",
       "      <td>Jaipur</td>\n",
       "      <td>2008</td>\n",
       "      <td>111111</td>\n",
       "      <td>Diesel</td>\n",
       "      <td>Manual</td>\n",
       "      <td>First</td>\n",
       "      <td>17.8 kmpl</td>\n",
       "      <td>1399 CC</td>\n",
       "      <td>null bhp</td>\n",
       "      <td>5.0</td>\n",
       "      <td>2.00</td>\n",
       "      <td>ford</td>\n",
       "      <td>0</td>\n",
       "      <td>17.800000</td>\n",
       "      <td>1399.0</td>\n",
       "      <td>0.0</td>\n",
       "    </tr>\n",
       "    <tr>\n",
       "      <th>79</th>\n",
       "      <td>Hyundai Santro Xing XL</td>\n",
       "      <td>Hyderabad</td>\n",
       "      <td>2005</td>\n",
       "      <td>87591</td>\n",
       "      <td>Petrol</td>\n",
       "      <td>Manual</td>\n",
       "      <td>First</td>\n",
       "      <td>0.0 kmpl</td>\n",
       "      <td>1086 CC</td>\n",
       "      <td>null bhp</td>\n",
       "      <td>5.0</td>\n",
       "      <td>1.30</td>\n",
       "      <td>hyundai</td>\n",
       "      <td>0</td>\n",
       "      <td>1.205128</td>\n",
       "      <td>1086.0</td>\n",
       "      <td>0.0</td>\n",
       "    </tr>\n",
       "    <tr>\n",
       "      <th>89</th>\n",
       "      <td>Hyundai Santro Xing XO</td>\n",
       "      <td>Hyderabad</td>\n",
       "      <td>2007</td>\n",
       "      <td>73745</td>\n",
       "      <td>Petrol</td>\n",
       "      <td>Manual</td>\n",
       "      <td>First</td>\n",
       "      <td>17.0 kmpl</td>\n",
       "      <td>1086 CC</td>\n",
       "      <td>null bhp</td>\n",
       "      <td>5.0</td>\n",
       "      <td>2.10</td>\n",
       "      <td>hyundai</td>\n",
       "      <td>0</td>\n",
       "      <td>17.000000</td>\n",
       "      <td>1086.0</td>\n",
       "      <td>0.0</td>\n",
       "    </tr>\n",
       "    <tr>\n",
       "      <th>120</th>\n",
       "      <td>Hyundai Santro Xing XL eRLX Euro III</td>\n",
       "      <td>Mumbai</td>\n",
       "      <td>2005</td>\n",
       "      <td>102000</td>\n",
       "      <td>Petrol</td>\n",
       "      <td>Manual</td>\n",
       "      <td>Second</td>\n",
       "      <td>17.0 kmpl</td>\n",
       "      <td>1086 CC</td>\n",
       "      <td>null bhp</td>\n",
       "      <td>5.0</td>\n",
       "      <td>0.85</td>\n",
       "      <td>hyundai</td>\n",
       "      <td>0</td>\n",
       "      <td>17.000000</td>\n",
       "      <td>1086.0</td>\n",
       "      <td>0.0</td>\n",
       "    </tr>\n",
       "    <tr>\n",
       "      <th>143</th>\n",
       "      <td>Hyundai Santro Xing XO eRLX Euro II</td>\n",
       "      <td>Kochi</td>\n",
       "      <td>2008</td>\n",
       "      <td>80759</td>\n",
       "      <td>Petrol</td>\n",
       "      <td>Manual</td>\n",
       "      <td>Third</td>\n",
       "      <td>17.0 kmpl</td>\n",
       "      <td>1086 CC</td>\n",
       "      <td>null bhp</td>\n",
       "      <td>5.0</td>\n",
       "      <td>1.67</td>\n",
       "      <td>hyundai</td>\n",
       "      <td>0</td>\n",
       "      <td>17.000000</td>\n",
       "      <td>1086.0</td>\n",
       "      <td>0.0</td>\n",
       "    </tr>\n",
       "    <tr>\n",
       "      <th>...</th>\n",
       "      <td>...</td>\n",
       "      <td>...</td>\n",
       "      <td>...</td>\n",
       "      <td>...</td>\n",
       "      <td>...</td>\n",
       "      <td>...</td>\n",
       "      <td>...</td>\n",
       "      <td>...</td>\n",
       "      <td>...</td>\n",
       "      <td>...</td>\n",
       "      <td>...</td>\n",
       "      <td>...</td>\n",
       "      <td>...</td>\n",
       "      <td>...</td>\n",
       "      <td>...</td>\n",
       "      <td>...</td>\n",
       "      <td>...</td>\n",
       "    </tr>\n",
       "    <tr>\n",
       "      <th>5873</th>\n",
       "      <td>Hyundai Santro Xing XO eRLX Euro II</td>\n",
       "      <td>Pune</td>\n",
       "      <td>2006</td>\n",
       "      <td>47200</td>\n",
       "      <td>Petrol</td>\n",
       "      <td>Manual</td>\n",
       "      <td>Second</td>\n",
       "      <td>17.0 kmpl</td>\n",
       "      <td>1086 CC</td>\n",
       "      <td>null bhp</td>\n",
       "      <td>5.0</td>\n",
       "      <td>1.20</td>\n",
       "      <td>hyundai</td>\n",
       "      <td>0</td>\n",
       "      <td>17.000000</td>\n",
       "      <td>1086.0</td>\n",
       "      <td>0.0</td>\n",
       "    </tr>\n",
       "    <tr>\n",
       "      <th>5893</th>\n",
       "      <td>Maruti Estilo LXI</td>\n",
       "      <td>Chennai</td>\n",
       "      <td>2008</td>\n",
       "      <td>51000</td>\n",
       "      <td>Petrol</td>\n",
       "      <td>Manual</td>\n",
       "      <td>Second</td>\n",
       "      <td>19.5 kmpl</td>\n",
       "      <td>1061 CC</td>\n",
       "      <td>null bhp</td>\n",
       "      <td>NaN</td>\n",
       "      <td>1.75</td>\n",
       "      <td>maruti</td>\n",
       "      <td>0</td>\n",
       "      <td>19.500000</td>\n",
       "      <td>1061.0</td>\n",
       "      <td>0.0</td>\n",
       "    </tr>\n",
       "    <tr>\n",
       "      <th>5925</th>\n",
       "      <td>Skoda Laura Classic 1.8 TSI</td>\n",
       "      <td>Pune</td>\n",
       "      <td>2010</td>\n",
       "      <td>85000</td>\n",
       "      <td>Petrol</td>\n",
       "      <td>Manual</td>\n",
       "      <td>First</td>\n",
       "      <td>17.5 kmpl</td>\n",
       "      <td>1798 CC</td>\n",
       "      <td>null bhp</td>\n",
       "      <td>5.0</td>\n",
       "      <td>2.85</td>\n",
       "      <td>skoda</td>\n",
       "      <td>0</td>\n",
       "      <td>17.500000</td>\n",
       "      <td>1798.0</td>\n",
       "      <td>0.0</td>\n",
       "    </tr>\n",
       "    <tr>\n",
       "      <th>5943</th>\n",
       "      <td>Mahindra Jeep MM 540 DP</td>\n",
       "      <td>Chennai</td>\n",
       "      <td>2002</td>\n",
       "      <td>75000</td>\n",
       "      <td>Diesel</td>\n",
       "      <td>Manual</td>\n",
       "      <td>First</td>\n",
       "      <td>0.0 kmpl</td>\n",
       "      <td>2112 CC</td>\n",
       "      <td>null bhp</td>\n",
       "      <td>6.0</td>\n",
       "      <td>1.70</td>\n",
       "      <td>mahindra</td>\n",
       "      <td>0</td>\n",
       "      <td>18.881845</td>\n",
       "      <td>2112.0</td>\n",
       "      <td>0.0</td>\n",
       "    </tr>\n",
       "    <tr>\n",
       "      <th>5985</th>\n",
       "      <td>Toyota Etios GD</td>\n",
       "      <td>Delhi</td>\n",
       "      <td>2013</td>\n",
       "      <td>70000</td>\n",
       "      <td>Diesel</td>\n",
       "      <td>Manual</td>\n",
       "      <td>First</td>\n",
       "      <td>23.59 kmpl</td>\n",
       "      <td>1364 CC</td>\n",
       "      <td>null bhp</td>\n",
       "      <td>5.0</td>\n",
       "      <td>3.88</td>\n",
       "      <td>toyota</td>\n",
       "      <td>0</td>\n",
       "      <td>23.590000</td>\n",
       "      <td>1364.0</td>\n",
       "      <td>0.0</td>\n",
       "    </tr>\n",
       "  </tbody>\n",
       "</table>\n",
       "<p>143 rows × 17 columns</p>\n",
       "</div>"
      ],
      "text/plain": [
       "                                      Name   Location  Year  \\\n",
       "76                Ford Fiesta 1.4 SXi TDCi     Jaipur  2008   \n",
       "79                  Hyundai Santro Xing XL  Hyderabad  2005   \n",
       "89                  Hyundai Santro Xing XO  Hyderabad  2007   \n",
       "120   Hyundai Santro Xing XL eRLX Euro III     Mumbai  2005   \n",
       "143    Hyundai Santro Xing XO eRLX Euro II      Kochi  2008   \n",
       "...                                    ...        ...   ...   \n",
       "5873   Hyundai Santro Xing XO eRLX Euro II       Pune  2006   \n",
       "5893                     Maruti Estilo LXI    Chennai  2008   \n",
       "5925           Skoda Laura Classic 1.8 TSI       Pune  2010   \n",
       "5943               Mahindra Jeep MM 540 DP    Chennai  2002   \n",
       "5985                       Toyota Etios GD      Delhi  2013   \n",
       "\n",
       "      Kilometers_Driven Fuel_Type Transmission Owner_Type     Mileage  \\\n",
       "76               111111    Diesel       Manual      First   17.8 kmpl   \n",
       "79                87591    Petrol       Manual      First    0.0 kmpl   \n",
       "89                73745    Petrol       Manual      First   17.0 kmpl   \n",
       "120              102000    Petrol       Manual     Second   17.0 kmpl   \n",
       "143               80759    Petrol       Manual      Third   17.0 kmpl   \n",
       "...                 ...       ...          ...        ...         ...   \n",
       "5873              47200    Petrol       Manual     Second   17.0 kmpl   \n",
       "5893              51000    Petrol       Manual     Second   19.5 kmpl   \n",
       "5925              85000    Petrol       Manual      First   17.5 kmpl   \n",
       "5943              75000    Diesel       Manual      First    0.0 kmpl   \n",
       "5985              70000    Diesel       Manual      First  23.59 kmpl   \n",
       "\n",
       "       Engine     Power  Seats  Price     Brand  is_electric  Mileage_cleaned  \\\n",
       "76    1399 CC  null bhp    5.0   2.00      ford            0        17.800000   \n",
       "79    1086 CC  null bhp    5.0   1.30   hyundai            0         1.205128   \n",
       "89    1086 CC  null bhp    5.0   2.10   hyundai            0        17.000000   \n",
       "120   1086 CC  null bhp    5.0   0.85   hyundai            0        17.000000   \n",
       "143   1086 CC  null bhp    5.0   1.67   hyundai            0        17.000000   \n",
       "...       ...       ...    ...    ...       ...          ...              ...   \n",
       "5873  1086 CC  null bhp    5.0   1.20   hyundai            0        17.000000   \n",
       "5893  1061 CC  null bhp    NaN   1.75    maruti            0        19.500000   \n",
       "5925  1798 CC  null bhp    5.0   2.85     skoda            0        17.500000   \n",
       "5943  2112 CC  null bhp    6.0   1.70  mahindra            0        18.881845   \n",
       "5985  1364 CC  null bhp    5.0   3.88    toyota            0        23.590000   \n",
       "\n",
       "      Engine_cleaned  Power_cleaned  \n",
       "76            1399.0            0.0  \n",
       "79            1086.0            0.0  \n",
       "89            1086.0            0.0  \n",
       "120           1086.0            0.0  \n",
       "143           1086.0            0.0  \n",
       "...              ...            ...  \n",
       "5873          1086.0            0.0  \n",
       "5893          1061.0            0.0  \n",
       "5925          1798.0            0.0  \n",
       "5943          2112.0            0.0  \n",
       "5985          1364.0            0.0  \n",
       "\n",
       "[143 rows x 17 columns]"
      ]
     },
     "execution_count": 979,
     "metadata": {},
     "output_type": "execute_result"
    }
   ],
   "source": [
    "data_train[data_train.Power_cleaned==0]"
   ]
  },
  {
   "cell_type": "code",
   "execution_count": 980,
   "metadata": {},
   "outputs": [],
   "source": [
    "Power_missing=[]\n",
    "for i,j in data_train[(data_train['Power_cleaned']==0)].iterrows():\n",
    "    Power_missing.append(data_train[(data_train.Mileage_cleaned.between(j.Mileage_cleaned-20,j.Mileage_cleaned+20))\n",
    "                                   & (data_train.Engine_cleaned.between(j.Engine_cleaned-200,j.Engine_cleaned+200))]\n",
    "                        ['Power_cleaned'].mean())"
   ]
  },
  {
   "cell_type": "code",
   "execution_count": 981,
   "metadata": {},
   "outputs": [
    {
     "data": {
      "text/plain": [
       "count    6019.000000\n",
       "mean      110.562372\n",
       "std        55.956041\n",
       "min         0.000000\n",
       "25%        74.000000\n",
       "50%        91.100000\n",
       "75%       138.030000\n",
       "max       560.000000\n",
       "Name: Power_cleaned, dtype: float64"
      ]
     },
     "execution_count": 981,
     "metadata": {},
     "output_type": "execute_result"
    }
   ],
   "source": [
    "data_train['Power_cleaned'].describe()"
   ]
  },
  {
   "cell_type": "code",
   "execution_count": 982,
   "metadata": {},
   "outputs": [
    {
     "name": "stderr",
     "output_type": "stream",
     "text": [
      "C:\\Users\\NIKHIL\\anaconda3\\lib\\site-packages\\pandas\\core\\indexing.py:670: SettingWithCopyWarning: \n",
      "A value is trying to be set on a copy of a slice from a DataFrame\n",
      "\n",
      "See the caveats in the documentation: https://pandas.pydata.org/pandas-docs/stable/user_guide/indexing.html#returning-a-view-versus-a-copy\n",
      "  self._setitem_with_indexer(indexer, value)\n"
     ]
    }
   ],
   "source": [
    "j=0\n",
    "for i in data_train[(data_train['Power_cleaned']==0)]['Power_cleaned'].index.tolist():\n",
    "    data_train['Power_cleaned'].iloc[i]=Power_missing[j]\n",
    "    j+=1"
   ]
  },
  {
   "cell_type": "markdown",
   "metadata": {},
   "source": [
    "### Seats"
   ]
  },
  {
   "cell_type": "code",
   "execution_count": 983,
   "metadata": {},
   "outputs": [
    {
     "data": {
      "text/plain": [
       "5.278735151413753"
      ]
     },
     "execution_count": 983,
     "metadata": {},
     "output_type": "execute_result"
    }
   ],
   "source": [
    "data_train.Seats.mean()"
   ]
  },
  {
   "cell_type": "markdown",
   "metadata": {},
   "source": [
    "### Filling up missing values"
   ]
  },
  {
   "cell_type": "code",
   "execution_count": 984,
   "metadata": {},
   "outputs": [
    {
     "name": "stderr",
     "output_type": "stream",
     "text": [
      "C:\\Users\\NIKHIL\\anaconda3\\lib\\site-packages\\ipykernel_launcher.py:1: SettingWithCopyWarning: \n",
      "A value is trying to be set on a copy of a slice from a DataFrame\n",
      "\n",
      "See the caveats in the documentation: https://pandas.pydata.org/pandas-docs/stable/user_guide/indexing.html#returning-a-view-versus-a-copy\n",
      "  \"\"\"Entry point for launching an IPython kernel.\n"
     ]
    }
   ],
   "source": [
    "data_train['Seats'][3999]=5"
   ]
  },
  {
   "cell_type": "code",
   "execution_count": 985,
   "metadata": {},
   "outputs": [
    {
     "data": {
      "text/plain": [
       "5.0"
      ]
     },
     "execution_count": 985,
     "metadata": {},
     "output_type": "execute_result"
    }
   ],
   "source": [
    "data_train['Seats'][3999]"
   ]
  },
  {
   "cell_type": "markdown",
   "metadata": {},
   "source": [
    "## Saving data to pickle file"
   ]
  },
  {
   "cell_type": "code",
   "execution_count": 986,
   "metadata": {},
   "outputs": [],
   "source": [
    "data_train.to_pickle('data_train_after_cleanup')"
   ]
  },
  {
   "cell_type": "code",
   "execution_count": 987,
   "metadata": {},
   "outputs": [],
   "source": [
    "import pandas as pd\n",
    "data_train_cleaned=pd.read_pickle('data_train_after_cleanup')\n",
    "data_test_cleaned=pd.read_pickle('data_train_after_cleanup')"
   ]
  },
  {
   "cell_type": "markdown",
   "metadata": {},
   "source": [
    "## Converting categorical vaariables into one hot encoded features"
   ]
  },
  {
   "cell_type": "code",
   "execution_count": 988,
   "metadata": {},
   "outputs": [
    {
     "data": {
      "text/plain": [
       "(6019, 17)"
      ]
     },
     "execution_count": 988,
     "metadata": {},
     "output_type": "execute_result"
    }
   ],
   "source": [
    "data_test_cleaned.shape"
   ]
  },
  {
   "cell_type": "code",
   "execution_count": 989,
   "metadata": {},
   "outputs": [
    {
     "data": {
      "text/plain": [
       "(6019, 17)"
      ]
     },
     "execution_count": 989,
     "metadata": {},
     "output_type": "execute_result"
    }
   ],
   "source": [
    "data_train_cleaned.shape"
   ]
  },
  {
   "cell_type": "code",
   "execution_count": 990,
   "metadata": {},
   "outputs": [],
   "source": [
    "data_train_dup=data_train_cleaned.copy()\n",
    "data_test_dup=data_test_cleaned.copy()"
   ]
  },
  {
   "cell_type": "code",
   "execution_count": 991,
   "metadata": {},
   "outputs": [],
   "source": [
    "data_train_target=data_train_cleaned['Price']\n",
    "data_train_final=data_train_cleaned.drop(['Name','Mileage','Engine','Power'],axis=1)"
   ]
  },
  {
   "cell_type": "code",
   "execution_count": 992,
   "metadata": {},
   "outputs": [],
   "source": [
    "data_test_final=data_test_cleaned.drop(['Name','Mileage','Engine','Power'],axis=1)"
   ]
  },
  {
   "cell_type": "code",
   "execution_count": 993,
   "metadata": {},
   "outputs": [
    {
     "data": {
      "text/plain": [
       "Index(['Location', 'Year', 'Kilometers_Driven', 'Fuel_Type', 'Transmission',\n",
       "       'Owner_Type', 'Seats', 'Price', 'Brand', 'is_electric',\n",
       "       'Mileage_cleaned', 'Engine_cleaned', 'Power_cleaned'],\n",
       "      dtype='object')"
      ]
     },
     "execution_count": 993,
     "metadata": {},
     "output_type": "execute_result"
    }
   ],
   "source": [
    "data_train_final.columns"
   ]
  },
  {
   "cell_type": "code",
   "execution_count": 994,
   "metadata": {},
   "outputs": [
    {
     "data": {
      "text/plain": [
       "Index(['Location', 'Year', 'Kilometers_Driven', 'Fuel_Type', 'Transmission',\n",
       "       'Owner_Type', 'Seats', 'Price', 'Brand', 'is_electric',\n",
       "       'Mileage_cleaned', 'Engine_cleaned', 'Power_cleaned'],\n",
       "      dtype='object')"
      ]
     },
     "execution_count": 994,
     "metadata": {},
     "output_type": "execute_result"
    }
   ],
   "source": [
    "data_test_final.columns"
   ]
  },
  {
   "cell_type": "markdown",
   "metadata": {},
   "source": [
    "## Normalizing train data"
   ]
  },
  {
   "cell_type": "code",
   "execution_count": 995,
   "metadata": {},
   "outputs": [],
   "source": [
    "from sklearn.preprocessing import MinMaxScaler\n",
    "for i in ['Kilometers_Driven','Mileage_cleaned','Engine_cleaned','Power_cleaned']:\n",
    "    data_train_final[i]=MinMaxScaler(feature_range=(0,1)).fit_transform(data_train_final[i].values.astype(float).reshape(-1,1))"
   ]
  },
  {
   "cell_type": "markdown",
   "metadata": {},
   "source": [
    "## Normalizing test data"
   ]
  },
  {
   "cell_type": "code",
   "execution_count": 996,
   "metadata": {},
   "outputs": [],
   "source": [
    "from sklearn.preprocessing import MinMaxScaler\n",
    "for i in ['Kilometers_Driven','Mileage_cleaned','Engine_cleaned','Power_cleaned']:\n",
    "    data_test_final[i]=MinMaxScaler(feature_range=(0,1)).fit_transform(data_test_final[i].values.astype(float).reshape(-1,1))"
   ]
  },
  {
   "cell_type": "markdown",
   "metadata": {},
   "source": [
    "## Converting train to one hot encoded data"
   ]
  },
  {
   "cell_type": "code",
   "execution_count": 997,
   "metadata": {},
   "outputs": [],
   "source": [
    "import category_encoders as ce"
   ]
  },
  {
   "cell_type": "code",
   "execution_count": 998,
   "metadata": {},
   "outputs": [
    {
     "data": {
      "text/plain": [
       "OneHotEncoder(cols=['Location', 'Fuel_Type', 'Transmission', 'Owner_Type',\n",
       "                    'Brand'],\n",
       "              drop_invariant=False, handle_missing='value',\n",
       "              handle_unknown='ignore', return_df=True, use_cat_names=True,\n",
       "              verbose=0)"
      ]
     },
     "execution_count": 998,
     "metadata": {},
     "output_type": "execute_result"
    }
   ],
   "source": [
    "ohe=ce.OneHotEncoder(handle_unknown='ignore',use_cat_names=True)\n",
    "ohe.fit(data_train_final)"
   ]
  },
  {
   "cell_type": "code",
   "execution_count": 999,
   "metadata": {},
   "outputs": [],
   "source": [
    "X_train_ohe=ohe.transform(data_train_final)"
   ]
  },
  {
   "cell_type": "markdown",
   "metadata": {},
   "source": [
    "## Converting test to one hot encoded data"
   ]
  },
  {
   "cell_type": "code",
   "execution_count": 1000,
   "metadata": {},
   "outputs": [
    {
     "data": {
      "text/plain": [
       "OneHotEncoder(cols=['Location', 'Fuel_Type', 'Transmission', 'Owner_Type',\n",
       "                    'Brand'],\n",
       "              drop_invariant=False, handle_missing='value',\n",
       "              handle_unknown='ignore', return_df=True, use_cat_names=True,\n",
       "              verbose=0)"
      ]
     },
     "execution_count": 1000,
     "metadata": {},
     "output_type": "execute_result"
    }
   ],
   "source": [
    "ohe=ce.OneHotEncoder(handle_unknown='ignore',use_cat_names=True)\n",
    "ohe.fit(data_train_final)"
   ]
  },
  {
   "cell_type": "code",
   "execution_count": 1001,
   "metadata": {},
   "outputs": [],
   "source": [
    "X_test_ohe=ohe.transform(data_test_final)"
   ]
  },
  {
   "cell_type": "code",
   "execution_count": 1002,
   "metadata": {},
   "outputs": [
    {
     "data": {
      "text/html": [
       "<div>\n",
       "<style scoped>\n",
       "    .dataframe tbody tr th:only-of-type {\n",
       "        vertical-align: middle;\n",
       "    }\n",
       "\n",
       "    .dataframe tbody tr th {\n",
       "        vertical-align: top;\n",
       "    }\n",
       "\n",
       "    .dataframe thead th {\n",
       "        text-align: right;\n",
       "    }\n",
       "</style>\n",
       "<table border=\"1\" class=\"dataframe\">\n",
       "  <thead>\n",
       "    <tr style=\"text-align: right;\">\n",
       "      <th></th>\n",
       "      <th>Location_Mumbai</th>\n",
       "      <th>Location_Pune</th>\n",
       "      <th>Location_Chennai</th>\n",
       "      <th>Location_Coimbatore</th>\n",
       "      <th>Location_Hyderabad</th>\n",
       "      <th>Location_Jaipur</th>\n",
       "      <th>Location_Kochi</th>\n",
       "      <th>Location_Kolkata</th>\n",
       "      <th>Location_Delhi</th>\n",
       "      <th>Location_Bangalore</th>\n",
       "      <th>...</th>\n",
       "      <th>Brand_smart</th>\n",
       "      <th>Brand_ambassador</th>\n",
       "      <th>Brand_isuzu</th>\n",
       "      <th>Brand_force</th>\n",
       "      <th>Brand_bentley</th>\n",
       "      <th>Brand_lamborghini</th>\n",
       "      <th>is_electric</th>\n",
       "      <th>Mileage_cleaned</th>\n",
       "      <th>Engine_cleaned</th>\n",
       "      <th>Power_cleaned</th>\n",
       "    </tr>\n",
       "  </thead>\n",
       "  <tbody>\n",
       "    <tr>\n",
       "      <th>0</th>\n",
       "      <td>1</td>\n",
       "      <td>0</td>\n",
       "      <td>0</td>\n",
       "      <td>0</td>\n",
       "      <td>0</td>\n",
       "      <td>0</td>\n",
       "      <td>0</td>\n",
       "      <td>0</td>\n",
       "      <td>0</td>\n",
       "      <td>0</td>\n",
       "      <td>...</td>\n",
       "      <td>0</td>\n",
       "      <td>0</td>\n",
       "      <td>0</td>\n",
       "      <td>0</td>\n",
       "      <td>0</td>\n",
       "      <td>0</td>\n",
       "      <td>0</td>\n",
       "      <td>0.097151</td>\n",
       "      <td>0.156261</td>\n",
       "      <td>0.045569</td>\n",
       "    </tr>\n",
       "    <tr>\n",
       "      <th>1</th>\n",
       "      <td>0</td>\n",
       "      <td>1</td>\n",
       "      <td>0</td>\n",
       "      <td>0</td>\n",
       "      <td>0</td>\n",
       "      <td>0</td>\n",
       "      <td>0</td>\n",
       "      <td>0</td>\n",
       "      <td>0</td>\n",
       "      <td>0</td>\n",
       "      <td>...</td>\n",
       "      <td>0</td>\n",
       "      <td>0</td>\n",
       "      <td>0</td>\n",
       "      <td>0</td>\n",
       "      <td>0</td>\n",
       "      <td>0</td>\n",
       "      <td>0</td>\n",
       "      <td>0.070640</td>\n",
       "      <td>0.254809</td>\n",
       "      <td>0.174971</td>\n",
       "    </tr>\n",
       "    <tr>\n",
       "      <th>2</th>\n",
       "      <td>0</td>\n",
       "      <td>0</td>\n",
       "      <td>1</td>\n",
       "      <td>0</td>\n",
       "      <td>0</td>\n",
       "      <td>0</td>\n",
       "      <td>0</td>\n",
       "      <td>0</td>\n",
       "      <td>0</td>\n",
       "      <td>0</td>\n",
       "      <td>...</td>\n",
       "      <td>0</td>\n",
       "      <td>0</td>\n",
       "      <td>0</td>\n",
       "      <td>0</td>\n",
       "      <td>0</td>\n",
       "      <td>0</td>\n",
       "      <td>0</td>\n",
       "      <td>0.065016</td>\n",
       "      <td>0.190179</td>\n",
       "      <td>0.103652</td>\n",
       "    </tr>\n",
       "    <tr>\n",
       "      <th>3</th>\n",
       "      <td>0</td>\n",
       "      <td>0</td>\n",
       "      <td>1</td>\n",
       "      <td>0</td>\n",
       "      <td>0</td>\n",
       "      <td>0</td>\n",
       "      <td>0</td>\n",
       "      <td>0</td>\n",
       "      <td>0</td>\n",
       "      <td>0</td>\n",
       "      <td>...</td>\n",
       "      <td>0</td>\n",
       "      <td>0</td>\n",
       "      <td>0</td>\n",
       "      <td>0</td>\n",
       "      <td>0</td>\n",
       "      <td>0</td>\n",
       "      <td>0</td>\n",
       "      <td>0.074848</td>\n",
       "      <td>0.198448</td>\n",
       "      <td>0.103766</td>\n",
       "    </tr>\n",
       "    <tr>\n",
       "      <th>4</th>\n",
       "      <td>0</td>\n",
       "      <td>0</td>\n",
       "      <td>0</td>\n",
       "      <td>1</td>\n",
       "      <td>0</td>\n",
       "      <td>0</td>\n",
       "      <td>0</td>\n",
       "      <td>0</td>\n",
       "      <td>0</td>\n",
       "      <td>0</td>\n",
       "      <td>...</td>\n",
       "      <td>0</td>\n",
       "      <td>0</td>\n",
       "      <td>0</td>\n",
       "      <td>0</td>\n",
       "      <td>0</td>\n",
       "      <td>0</td>\n",
       "      <td>0</td>\n",
       "      <td>0.053539</td>\n",
       "      <td>0.319946</td>\n",
       "      <td>0.202739</td>\n",
       "    </tr>\n",
       "  </tbody>\n",
       "</table>\n",
       "<p>5 rows × 60 columns</p>\n",
       "</div>"
      ],
      "text/plain": [
       "   Location_Mumbai  Location_Pune  Location_Chennai  Location_Coimbatore  \\\n",
       "0                1              0                 0                    0   \n",
       "1                0              1                 0                    0   \n",
       "2                0              0                 1                    0   \n",
       "3                0              0                 1                    0   \n",
       "4                0              0                 0                    1   \n",
       "\n",
       "   Location_Hyderabad  Location_Jaipur  Location_Kochi  Location_Kolkata  \\\n",
       "0                   0                0               0                 0   \n",
       "1                   0                0               0                 0   \n",
       "2                   0                0               0                 0   \n",
       "3                   0                0               0                 0   \n",
       "4                   0                0               0                 0   \n",
       "\n",
       "   Location_Delhi  Location_Bangalore  ...  Brand_smart  Brand_ambassador  \\\n",
       "0               0                   0  ...            0                 0   \n",
       "1               0                   0  ...            0                 0   \n",
       "2               0                   0  ...            0                 0   \n",
       "3               0                   0  ...            0                 0   \n",
       "4               0                   0  ...            0                 0   \n",
       "\n",
       "   Brand_isuzu  Brand_force  Brand_bentley  Brand_lamborghini  is_electric  \\\n",
       "0            0            0              0                  0            0   \n",
       "1            0            0              0                  0            0   \n",
       "2            0            0              0                  0            0   \n",
       "3            0            0              0                  0            0   \n",
       "4            0            0              0                  0            0   \n",
       "\n",
       "   Mileage_cleaned  Engine_cleaned  Power_cleaned  \n",
       "0         0.097151        0.156261       0.045569  \n",
       "1         0.070640        0.254809       0.174971  \n",
       "2         0.065016        0.190179       0.103652  \n",
       "3         0.074848        0.198448       0.103766  \n",
       "4         0.053539        0.319946       0.202739  \n",
       "\n",
       "[5 rows x 60 columns]"
      ]
     },
     "execution_count": 1002,
     "metadata": {},
     "output_type": "execute_result"
    }
   ],
   "source": [
    "X_test_ohe.head()"
   ]
  },
  {
   "cell_type": "code",
   "execution_count": 1003,
   "metadata": {},
   "outputs": [
    {
     "data": {
      "text/plain": [
       "(6019, 60)"
      ]
     },
     "execution_count": 1003,
     "metadata": {},
     "output_type": "execute_result"
    }
   ],
   "source": [
    "X_test_ohe.shape"
   ]
  },
  {
   "cell_type": "code",
   "execution_count": 1004,
   "metadata": {},
   "outputs": [],
   "source": [
    "import pandas as pd\n",
    "train_data2=pd.read_excel('Data_train.xlsx')\n",
    "train_data=train_data2[train_data2.Kilometers_Driven<6499999].copy()\n",
    "brand_name=[]\n",
    "model_name=[]\n",
    "version=[]\n",
    "for i,j in train_data.iterrows():\n",
    "        brand_name.append(j['Name'].split()[0].lower())\n",
    "        model_name.append(\"\".join(j['Name'].split()[1:3]).lower())\n",
    "        version.append(\"\".join(j['Name'].split()[2:]).lower())\n",
    "train_data['Brand']=brand_name\n",
    "train_data['Model']=model_name\n",
    "train_data['Version']=version\n",
    "\n",
    "train_data['Year_Modified']=train_data.Year.apply(lambda x:2019-x)\n",
    "train_data=train_data.sort_values(by=['Name'])"
   ]
  },
  {
   "cell_type": "code",
   "execution_count": 1005,
   "metadata": {},
   "outputs": [
    {
     "data": {
      "text/html": [
       "<div>\n",
       "<style scoped>\n",
       "    .dataframe tbody tr th:only-of-type {\n",
       "        vertical-align: middle;\n",
       "    }\n",
       "\n",
       "    .dataframe tbody tr th {\n",
       "        vertical-align: top;\n",
       "    }\n",
       "\n",
       "    .dataframe thead th {\n",
       "        text-align: right;\n",
       "    }\n",
       "</style>\n",
       "<table border=\"1\" class=\"dataframe\">\n",
       "  <thead>\n",
       "    <tr style=\"text-align: right;\">\n",
       "      <th></th>\n",
       "      <th>Name</th>\n",
       "      <th>Location</th>\n",
       "      <th>Year</th>\n",
       "      <th>Kilometers_Driven</th>\n",
       "      <th>Fuel_Type</th>\n",
       "      <th>Transmission</th>\n",
       "      <th>Owner_Type</th>\n",
       "      <th>Mileage</th>\n",
       "      <th>Engine</th>\n",
       "      <th>Power</th>\n",
       "      <th>Seats</th>\n",
       "      <th>Price</th>\n",
       "      <th>Brand</th>\n",
       "      <th>Model</th>\n",
       "      <th>Version</th>\n",
       "      <th>Year_Modified</th>\n",
       "    </tr>\n",
       "  </thead>\n",
       "  <tbody>\n",
       "    <tr>\n",
       "      <th>1221</th>\n",
       "      <td>Ambassador Classic Nova Diesel</td>\n",
       "      <td>Chennai</td>\n",
       "      <td>2003</td>\n",
       "      <td>80000</td>\n",
       "      <td>Diesel</td>\n",
       "      <td>Manual</td>\n",
       "      <td>Third</td>\n",
       "      <td>12.8 kmpl</td>\n",
       "      <td>1489 CC</td>\n",
       "      <td>35.5 bhp</td>\n",
       "      <td>5.0</td>\n",
       "      <td>1.35</td>\n",
       "      <td>ambassador</td>\n",
       "      <td>classicnova</td>\n",
       "      <td>novadiesel</td>\n",
       "      <td>16</td>\n",
       "    </tr>\n",
       "    <tr>\n",
       "      <th>398</th>\n",
       "      <td>Audi A3 35 TDI Attraction</td>\n",
       "      <td>Chennai</td>\n",
       "      <td>2014</td>\n",
       "      <td>79271</td>\n",
       "      <td>Diesel</td>\n",
       "      <td>Automatic</td>\n",
       "      <td>First</td>\n",
       "      <td>20.38 kmpl</td>\n",
       "      <td>1968 CC</td>\n",
       "      <td>143 bhp</td>\n",
       "      <td>5.0</td>\n",
       "      <td>16.50</td>\n",
       "      <td>audi</td>\n",
       "      <td>a335</td>\n",
       "      <td>35tdiattraction</td>\n",
       "      <td>5</td>\n",
       "    </tr>\n",
       "    <tr>\n",
       "      <th>4782</th>\n",
       "      <td>Audi A3 35 TDI Premium</td>\n",
       "      <td>Mumbai</td>\n",
       "      <td>2016</td>\n",
       "      <td>20003</td>\n",
       "      <td>Diesel</td>\n",
       "      <td>Automatic</td>\n",
       "      <td>First</td>\n",
       "      <td>20.38 kmpl</td>\n",
       "      <td>1968 CC</td>\n",
       "      <td>143 bhp</td>\n",
       "      <td>5.0</td>\n",
       "      <td>19.25</td>\n",
       "      <td>audi</td>\n",
       "      <td>a335</td>\n",
       "      <td>35tdipremium</td>\n",
       "      <td>3</td>\n",
       "    </tr>\n",
       "    <tr>\n",
       "      <th>4989</th>\n",
       "      <td>Audi A3 35 TDI Premium Plus</td>\n",
       "      <td>Mumbai</td>\n",
       "      <td>2016</td>\n",
       "      <td>39000</td>\n",
       "      <td>Diesel</td>\n",
       "      <td>Automatic</td>\n",
       "      <td>First</td>\n",
       "      <td>20.38 kmpl</td>\n",
       "      <td>1968 CC</td>\n",
       "      <td>143 bhp</td>\n",
       "      <td>5.0</td>\n",
       "      <td>18.90</td>\n",
       "      <td>audi</td>\n",
       "      <td>a335</td>\n",
       "      <td>35tdipremiumplus</td>\n",
       "      <td>3</td>\n",
       "    </tr>\n",
       "    <tr>\n",
       "      <th>1954</th>\n",
       "      <td>Audi A3 35 TDI Technology</td>\n",
       "      <td>Delhi</td>\n",
       "      <td>2017</td>\n",
       "      <td>22000</td>\n",
       "      <td>Diesel</td>\n",
       "      <td>Automatic</td>\n",
       "      <td>Second</td>\n",
       "      <td>20.38 kmpl</td>\n",
       "      <td>1968 CC</td>\n",
       "      <td>143 bhp</td>\n",
       "      <td>5.0</td>\n",
       "      <td>22.50</td>\n",
       "      <td>audi</td>\n",
       "      <td>a335</td>\n",
       "      <td>35tditechnology</td>\n",
       "      <td>2</td>\n",
       "    </tr>\n",
       "    <tr>\n",
       "      <th>...</th>\n",
       "      <td>...</td>\n",
       "      <td>...</td>\n",
       "      <td>...</td>\n",
       "      <td>...</td>\n",
       "      <td>...</td>\n",
       "      <td>...</td>\n",
       "      <td>...</td>\n",
       "      <td>...</td>\n",
       "      <td>...</td>\n",
       "      <td>...</td>\n",
       "      <td>...</td>\n",
       "      <td>...</td>\n",
       "      <td>...</td>\n",
       "      <td>...</td>\n",
       "      <td>...</td>\n",
       "      <td>...</td>\n",
       "    </tr>\n",
       "    <tr>\n",
       "      <th>3933</th>\n",
       "      <td>Volvo XC60 D5</td>\n",
       "      <td>Hyderabad</td>\n",
       "      <td>2015</td>\n",
       "      <td>100000</td>\n",
       "      <td>Diesel</td>\n",
       "      <td>Automatic</td>\n",
       "      <td>First</td>\n",
       "      <td>13.5 kmpl</td>\n",
       "      <td>2400 CC</td>\n",
       "      <td>215 bhp</td>\n",
       "      <td>5.0</td>\n",
       "      <td>32.50</td>\n",
       "      <td>volvo</td>\n",
       "      <td>xc60d5</td>\n",
       "      <td>d5</td>\n",
       "      <td>4</td>\n",
       "    </tr>\n",
       "    <tr>\n",
       "      <th>989</th>\n",
       "      <td>Volvo XC60 D5</td>\n",
       "      <td>Pune</td>\n",
       "      <td>2011</td>\n",
       "      <td>106976</td>\n",
       "      <td>Diesel</td>\n",
       "      <td>Automatic</td>\n",
       "      <td>First</td>\n",
       "      <td>13.5 kmpl</td>\n",
       "      <td>2400 CC</td>\n",
       "      <td>215 bhp</td>\n",
       "      <td>5.0</td>\n",
       "      <td>13.80</td>\n",
       "      <td>volvo</td>\n",
       "      <td>xc60d5</td>\n",
       "      <td>d5</td>\n",
       "      <td>8</td>\n",
       "    </tr>\n",
       "    <tr>\n",
       "      <th>1178</th>\n",
       "      <td>Volvo XC60 D5 Inscription</td>\n",
       "      <td>Kochi</td>\n",
       "      <td>2014</td>\n",
       "      <td>86925</td>\n",
       "      <td>Diesel</td>\n",
       "      <td>Automatic</td>\n",
       "      <td>First</td>\n",
       "      <td>11.2 kmpl</td>\n",
       "      <td>2400 CC</td>\n",
       "      <td>215 bhp</td>\n",
       "      <td>5.0</td>\n",
       "      <td>17.18</td>\n",
       "      <td>volvo</td>\n",
       "      <td>xc60d5</td>\n",
       "      <td>d5inscription</td>\n",
       "      <td>5</td>\n",
       "    </tr>\n",
       "    <tr>\n",
       "      <th>4497</th>\n",
       "      <td>Volvo XC90 2007-2015 D5 AT AWD</td>\n",
       "      <td>Kochi</td>\n",
       "      <td>2014</td>\n",
       "      <td>102001</td>\n",
       "      <td>Diesel</td>\n",
       "      <td>Automatic</td>\n",
       "      <td>First</td>\n",
       "      <td>11.1 kmpl</td>\n",
       "      <td>2400 CC</td>\n",
       "      <td>200 bhp</td>\n",
       "      <td>7.0</td>\n",
       "      <td>23.58</td>\n",
       "      <td>volvo</td>\n",
       "      <td>xc902007-2015</td>\n",
       "      <td>2007-2015d5atawd</td>\n",
       "      <td>5</td>\n",
       "    </tr>\n",
       "    <tr>\n",
       "      <th>2401</th>\n",
       "      <td>Volvo XC90 2007-2015 D5 AWD</td>\n",
       "      <td>Kochi</td>\n",
       "      <td>2014</td>\n",
       "      <td>89230</td>\n",
       "      <td>Diesel</td>\n",
       "      <td>Manual</td>\n",
       "      <td>First</td>\n",
       "      <td>11.1 kmpl</td>\n",
       "      <td>2400 CC</td>\n",
       "      <td>200 bhp</td>\n",
       "      <td>7.0</td>\n",
       "      <td>23.65</td>\n",
       "      <td>volvo</td>\n",
       "      <td>xc902007-2015</td>\n",
       "      <td>2007-2015d5awd</td>\n",
       "      <td>5</td>\n",
       "    </tr>\n",
       "  </tbody>\n",
       "</table>\n",
       "<p>6018 rows × 16 columns</p>\n",
       "</div>"
      ],
      "text/plain": [
       "                                Name   Location  Year  Kilometers_Driven  \\\n",
       "1221  Ambassador Classic Nova Diesel    Chennai  2003              80000   \n",
       "398        Audi A3 35 TDI Attraction    Chennai  2014              79271   \n",
       "4782          Audi A3 35 TDI Premium     Mumbai  2016              20003   \n",
       "4989     Audi A3 35 TDI Premium Plus     Mumbai  2016              39000   \n",
       "1954       Audi A3 35 TDI Technology      Delhi  2017              22000   \n",
       "...                              ...        ...   ...                ...   \n",
       "3933                   Volvo XC60 D5  Hyderabad  2015             100000   \n",
       "989                    Volvo XC60 D5       Pune  2011             106976   \n",
       "1178       Volvo XC60 D5 Inscription      Kochi  2014              86925   \n",
       "4497  Volvo XC90 2007-2015 D5 AT AWD      Kochi  2014             102001   \n",
       "2401     Volvo XC90 2007-2015 D5 AWD      Kochi  2014              89230   \n",
       "\n",
       "     Fuel_Type Transmission Owner_Type     Mileage   Engine     Power  Seats  \\\n",
       "1221    Diesel       Manual      Third   12.8 kmpl  1489 CC  35.5 bhp    5.0   \n",
       "398     Diesel    Automatic      First  20.38 kmpl  1968 CC   143 bhp    5.0   \n",
       "4782    Diesel    Automatic      First  20.38 kmpl  1968 CC   143 bhp    5.0   \n",
       "4989    Diesel    Automatic      First  20.38 kmpl  1968 CC   143 bhp    5.0   \n",
       "1954    Diesel    Automatic     Second  20.38 kmpl  1968 CC   143 bhp    5.0   \n",
       "...        ...          ...        ...         ...      ...       ...    ...   \n",
       "3933    Diesel    Automatic      First   13.5 kmpl  2400 CC   215 bhp    5.0   \n",
       "989     Diesel    Automatic      First   13.5 kmpl  2400 CC   215 bhp    5.0   \n",
       "1178    Diesel    Automatic      First   11.2 kmpl  2400 CC   215 bhp    5.0   \n",
       "4497    Diesel    Automatic      First   11.1 kmpl  2400 CC   200 bhp    7.0   \n",
       "2401    Diesel       Manual      First   11.1 kmpl  2400 CC   200 bhp    7.0   \n",
       "\n",
       "      Price       Brand          Model           Version  Year_Modified  \n",
       "1221   1.35  ambassador    classicnova        novadiesel             16  \n",
       "398   16.50        audi           a335   35tdiattraction              5  \n",
       "4782  19.25        audi           a335      35tdipremium              3  \n",
       "4989  18.90        audi           a335  35tdipremiumplus              3  \n",
       "1954  22.50        audi           a335   35tditechnology              2  \n",
       "...     ...         ...            ...               ...            ...  \n",
       "3933  32.50       volvo         xc60d5                d5              4  \n",
       "989   13.80       volvo         xc60d5                d5              8  \n",
       "1178  17.18       volvo         xc60d5     d5inscription              5  \n",
       "4497  23.58       volvo  xc902007-2015  2007-2015d5atawd              5  \n",
       "2401  23.65       volvo  xc902007-2015    2007-2015d5awd              5  \n",
       "\n",
       "[6018 rows x 16 columns]"
      ]
     },
     "execution_count": 1005,
     "metadata": {},
     "output_type": "execute_result"
    }
   ],
   "source": [
    "train_data"
   ]
  },
  {
   "cell_type": "markdown",
   "metadata": {},
   "source": [
    "## Label Encoding"
   ]
  },
  {
   "cell_type": "markdown",
   "metadata": {},
   "source": [
    "### Brand Encoding"
   ]
  },
  {
   "cell_type": "code",
   "execution_count": 1006,
   "metadata": {},
   "outputs": [
    {
     "data": {
      "text/plain": [
       "LabelEncoder()"
      ]
     },
     "execution_count": 1006,
     "metadata": {},
     "output_type": "execute_result"
    }
   ],
   "source": [
    "from sklearn import preprocessing\n",
    "le=preprocessing.LabelEncoder()\n",
    "le.fit(train_data['Brand'])"
   ]
  },
  {
   "cell_type": "code",
   "execution_count": 1007,
   "metadata": {},
   "outputs": [],
   "source": [
    "train_data['Brand_Transformed']=le.transform(train_data['Brand'])"
   ]
  },
  {
   "cell_type": "markdown",
   "metadata": {},
   "source": [
    "### Model Encoding"
   ]
  },
  {
   "cell_type": "code",
   "execution_count": 1008,
   "metadata": {},
   "outputs": [
    {
     "data": {
      "text/plain": [
       "LabelEncoder()"
      ]
     },
     "execution_count": 1008,
     "metadata": {},
     "output_type": "execute_result"
    }
   ],
   "source": [
    "from sklearn import preprocessing\n",
    "le=preprocessing.LabelEncoder()\n",
    "le.fit(train_data['Model'])"
   ]
  },
  {
   "cell_type": "code",
   "execution_count": 1009,
   "metadata": {},
   "outputs": [],
   "source": [
    "train_data['Model_Transformed']=le.transform(train_data['Model'])"
   ]
  },
  {
   "cell_type": "markdown",
   "metadata": {},
   "source": [
    "### Version Encoding"
   ]
  },
  {
   "cell_type": "code",
   "execution_count": 1010,
   "metadata": {},
   "outputs": [],
   "source": [
    "from sklearn import preprocessing\n",
    "le=preprocessing.LabelEncoder()\n",
    "le.fit(train_data['Version'])\n",
    "train_data['Version_Transformed']=le.transform(train_data['Version'])"
   ]
  },
  {
   "cell_type": "code",
   "execution_count": 1011,
   "metadata": {},
   "outputs": [],
   "source": [
    "from sklearn import preprocessing\n",
    "le=preprocessing.LabelEncoder()\n",
    "le.fit(train_data['Location'])\n",
    "train_data['Location_Transformed']=le.transform(train_data['Location'])"
   ]
  },
  {
   "cell_type": "code",
   "execution_count": 1012,
   "metadata": {},
   "outputs": [],
   "source": [
    "from sklearn import preprocessing\n",
    "le=preprocessing.LabelEncoder()\n",
    "le.fit(train_data['Transmission'])\n",
    "train_data['Transmission_Transformed']=le.transform(train_data['Transmission'])"
   ]
  },
  {
   "cell_type": "code",
   "execution_count": 1013,
   "metadata": {},
   "outputs": [
    {
     "data": {
      "text/html": [
       "<div>\n",
       "<style scoped>\n",
       "    .dataframe tbody tr th:only-of-type {\n",
       "        vertical-align: middle;\n",
       "    }\n",
       "\n",
       "    .dataframe tbody tr th {\n",
       "        vertical-align: top;\n",
       "    }\n",
       "\n",
       "    .dataframe thead th {\n",
       "        text-align: right;\n",
       "    }\n",
       "</style>\n",
       "<table border=\"1\" class=\"dataframe\">\n",
       "  <thead>\n",
       "    <tr style=\"text-align: right;\">\n",
       "      <th></th>\n",
       "      <th>Name</th>\n",
       "      <th>Location</th>\n",
       "      <th>Year</th>\n",
       "      <th>Kilometers_Driven</th>\n",
       "      <th>Fuel_Type</th>\n",
       "      <th>Transmission</th>\n",
       "      <th>Owner_Type</th>\n",
       "      <th>Mileage</th>\n",
       "      <th>Engine</th>\n",
       "      <th>Power</th>\n",
       "      <th>...</th>\n",
       "      <th>Price</th>\n",
       "      <th>Brand</th>\n",
       "      <th>Model</th>\n",
       "      <th>Version</th>\n",
       "      <th>Year_Modified</th>\n",
       "      <th>Brand_Transformed</th>\n",
       "      <th>Model_Transformed</th>\n",
       "      <th>Version_Transformed</th>\n",
       "      <th>Location_Transformed</th>\n",
       "      <th>Transmission_Transformed</th>\n",
       "    </tr>\n",
       "  </thead>\n",
       "  <tbody>\n",
       "    <tr>\n",
       "      <th>1221</th>\n",
       "      <td>Ambassador Classic Nova Diesel</td>\n",
       "      <td>Chennai</td>\n",
       "      <td>2003</td>\n",
       "      <td>80000</td>\n",
       "      <td>Diesel</td>\n",
       "      <td>Manual</td>\n",
       "      <td>Third</td>\n",
       "      <td>12.8 kmpl</td>\n",
       "      <td>1489 CC</td>\n",
       "      <td>35.5 bhp</td>\n",
       "      <td>...</td>\n",
       "      <td>1.35</td>\n",
       "      <td>ambassador</td>\n",
       "      <td>classicnova</td>\n",
       "      <td>novadiesel</td>\n",
       "      <td>16</td>\n",
       "      <td>0</td>\n",
       "      <td>133</td>\n",
       "      <td>1205</td>\n",
       "      <td>2</td>\n",
       "      <td>1</td>\n",
       "    </tr>\n",
       "    <tr>\n",
       "      <th>398</th>\n",
       "      <td>Audi A3 35 TDI Attraction</td>\n",
       "      <td>Chennai</td>\n",
       "      <td>2014</td>\n",
       "      <td>79271</td>\n",
       "      <td>Diesel</td>\n",
       "      <td>Automatic</td>\n",
       "      <td>First</td>\n",
       "      <td>20.38 kmpl</td>\n",
       "      <td>1968 CC</td>\n",
       "      <td>143 bhp</td>\n",
       "      <td>...</td>\n",
       "      <td>16.50</td>\n",
       "      <td>audi</td>\n",
       "      <td>a335</td>\n",
       "      <td>35tdiattraction</td>\n",
       "      <td>5</td>\n",
       "      <td>1</td>\n",
       "      <td>12</td>\n",
       "      <td>560</td>\n",
       "      <td>2</td>\n",
       "      <td>0</td>\n",
       "    </tr>\n",
       "    <tr>\n",
       "      <th>4782</th>\n",
       "      <td>Audi A3 35 TDI Premium</td>\n",
       "      <td>Mumbai</td>\n",
       "      <td>2016</td>\n",
       "      <td>20003</td>\n",
       "      <td>Diesel</td>\n",
       "      <td>Automatic</td>\n",
       "      <td>First</td>\n",
       "      <td>20.38 kmpl</td>\n",
       "      <td>1968 CC</td>\n",
       "      <td>143 bhp</td>\n",
       "      <td>...</td>\n",
       "      <td>19.25</td>\n",
       "      <td>audi</td>\n",
       "      <td>a335</td>\n",
       "      <td>35tdipremium</td>\n",
       "      <td>3</td>\n",
       "      <td>1</td>\n",
       "      <td>12</td>\n",
       "      <td>562</td>\n",
       "      <td>9</td>\n",
       "      <td>0</td>\n",
       "    </tr>\n",
       "    <tr>\n",
       "      <th>4989</th>\n",
       "      <td>Audi A3 35 TDI Premium Plus</td>\n",
       "      <td>Mumbai</td>\n",
       "      <td>2016</td>\n",
       "      <td>39000</td>\n",
       "      <td>Diesel</td>\n",
       "      <td>Automatic</td>\n",
       "      <td>First</td>\n",
       "      <td>20.38 kmpl</td>\n",
       "      <td>1968 CC</td>\n",
       "      <td>143 bhp</td>\n",
       "      <td>...</td>\n",
       "      <td>18.90</td>\n",
       "      <td>audi</td>\n",
       "      <td>a335</td>\n",
       "      <td>35tdipremiumplus</td>\n",
       "      <td>3</td>\n",
       "      <td>1</td>\n",
       "      <td>12</td>\n",
       "      <td>563</td>\n",
       "      <td>9</td>\n",
       "      <td>0</td>\n",
       "    </tr>\n",
       "    <tr>\n",
       "      <th>1954</th>\n",
       "      <td>Audi A3 35 TDI Technology</td>\n",
       "      <td>Delhi</td>\n",
       "      <td>2017</td>\n",
       "      <td>22000</td>\n",
       "      <td>Diesel</td>\n",
       "      <td>Automatic</td>\n",
       "      <td>Second</td>\n",
       "      <td>20.38 kmpl</td>\n",
       "      <td>1968 CC</td>\n",
       "      <td>143 bhp</td>\n",
       "      <td>...</td>\n",
       "      <td>22.50</td>\n",
       "      <td>audi</td>\n",
       "      <td>a335</td>\n",
       "      <td>35tditechnology</td>\n",
       "      <td>2</td>\n",
       "      <td>1</td>\n",
       "      <td>12</td>\n",
       "      <td>568</td>\n",
       "      <td>4</td>\n",
       "      <td>0</td>\n",
       "    </tr>\n",
       "    <tr>\n",
       "      <th>...</th>\n",
       "      <td>...</td>\n",
       "      <td>...</td>\n",
       "      <td>...</td>\n",
       "      <td>...</td>\n",
       "      <td>...</td>\n",
       "      <td>...</td>\n",
       "      <td>...</td>\n",
       "      <td>...</td>\n",
       "      <td>...</td>\n",
       "      <td>...</td>\n",
       "      <td>...</td>\n",
       "      <td>...</td>\n",
       "      <td>...</td>\n",
       "      <td>...</td>\n",
       "      <td>...</td>\n",
       "      <td>...</td>\n",
       "      <td>...</td>\n",
       "      <td>...</td>\n",
       "      <td>...</td>\n",
       "      <td>...</td>\n",
       "      <td>...</td>\n",
       "    </tr>\n",
       "    <tr>\n",
       "      <th>3933</th>\n",
       "      <td>Volvo XC60 D5</td>\n",
       "      <td>Hyderabad</td>\n",
       "      <td>2015</td>\n",
       "      <td>100000</td>\n",
       "      <td>Diesel</td>\n",
       "      <td>Automatic</td>\n",
       "      <td>First</td>\n",
       "      <td>13.5 kmpl</td>\n",
       "      <td>2400 CC</td>\n",
       "      <td>215 bhp</td>\n",
       "      <td>...</td>\n",
       "      <td>32.50</td>\n",
       "      <td>volvo</td>\n",
       "      <td>xc60d5</td>\n",
       "      <td>d5</td>\n",
       "      <td>4</td>\n",
       "      <td>29</td>\n",
       "      <td>629</td>\n",
       "      <td>851</td>\n",
       "      <td>5</td>\n",
       "      <td>0</td>\n",
       "    </tr>\n",
       "    <tr>\n",
       "      <th>989</th>\n",
       "      <td>Volvo XC60 D5</td>\n",
       "      <td>Pune</td>\n",
       "      <td>2011</td>\n",
       "      <td>106976</td>\n",
       "      <td>Diesel</td>\n",
       "      <td>Automatic</td>\n",
       "      <td>First</td>\n",
       "      <td>13.5 kmpl</td>\n",
       "      <td>2400 CC</td>\n",
       "      <td>215 bhp</td>\n",
       "      <td>...</td>\n",
       "      <td>13.80</td>\n",
       "      <td>volvo</td>\n",
       "      <td>xc60d5</td>\n",
       "      <td>d5</td>\n",
       "      <td>8</td>\n",
       "      <td>29</td>\n",
       "      <td>629</td>\n",
       "      <td>851</td>\n",
       "      <td>10</td>\n",
       "      <td>0</td>\n",
       "    </tr>\n",
       "    <tr>\n",
       "      <th>1178</th>\n",
       "      <td>Volvo XC60 D5 Inscription</td>\n",
       "      <td>Kochi</td>\n",
       "      <td>2014</td>\n",
       "      <td>86925</td>\n",
       "      <td>Diesel</td>\n",
       "      <td>Automatic</td>\n",
       "      <td>First</td>\n",
       "      <td>11.2 kmpl</td>\n",
       "      <td>2400 CC</td>\n",
       "      <td>215 bhp</td>\n",
       "      <td>...</td>\n",
       "      <td>17.18</td>\n",
       "      <td>volvo</td>\n",
       "      <td>xc60d5</td>\n",
       "      <td>d5inscription</td>\n",
       "      <td>5</td>\n",
       "      <td>29</td>\n",
       "      <td>629</td>\n",
       "      <td>852</td>\n",
       "      <td>7</td>\n",
       "      <td>0</td>\n",
       "    </tr>\n",
       "    <tr>\n",
       "      <th>4497</th>\n",
       "      <td>Volvo XC90 2007-2015 D5 AT AWD</td>\n",
       "      <td>Kochi</td>\n",
       "      <td>2014</td>\n",
       "      <td>102001</td>\n",
       "      <td>Diesel</td>\n",
       "      <td>Automatic</td>\n",
       "      <td>First</td>\n",
       "      <td>11.1 kmpl</td>\n",
       "      <td>2400 CC</td>\n",
       "      <td>200 bhp</td>\n",
       "      <td>...</td>\n",
       "      <td>23.58</td>\n",
       "      <td>volvo</td>\n",
       "      <td>xc902007-2015</td>\n",
       "      <td>2007-2015d5atawd</td>\n",
       "      <td>5</td>\n",
       "      <td>29</td>\n",
       "      <td>630</td>\n",
       "      <td>424</td>\n",
       "      <td>7</td>\n",
       "      <td>0</td>\n",
       "    </tr>\n",
       "    <tr>\n",
       "      <th>2401</th>\n",
       "      <td>Volvo XC90 2007-2015 D5 AWD</td>\n",
       "      <td>Kochi</td>\n",
       "      <td>2014</td>\n",
       "      <td>89230</td>\n",
       "      <td>Diesel</td>\n",
       "      <td>Manual</td>\n",
       "      <td>First</td>\n",
       "      <td>11.1 kmpl</td>\n",
       "      <td>2400 CC</td>\n",
       "      <td>200 bhp</td>\n",
       "      <td>...</td>\n",
       "      <td>23.65</td>\n",
       "      <td>volvo</td>\n",
       "      <td>xc902007-2015</td>\n",
       "      <td>2007-2015d5awd</td>\n",
       "      <td>5</td>\n",
       "      <td>29</td>\n",
       "      <td>630</td>\n",
       "      <td>425</td>\n",
       "      <td>7</td>\n",
       "      <td>1</td>\n",
       "    </tr>\n",
       "  </tbody>\n",
       "</table>\n",
       "<p>6018 rows × 21 columns</p>\n",
       "</div>"
      ],
      "text/plain": [
       "                                Name   Location  Year  Kilometers_Driven  \\\n",
       "1221  Ambassador Classic Nova Diesel    Chennai  2003              80000   \n",
       "398        Audi A3 35 TDI Attraction    Chennai  2014              79271   \n",
       "4782          Audi A3 35 TDI Premium     Mumbai  2016              20003   \n",
       "4989     Audi A3 35 TDI Premium Plus     Mumbai  2016              39000   \n",
       "1954       Audi A3 35 TDI Technology      Delhi  2017              22000   \n",
       "...                              ...        ...   ...                ...   \n",
       "3933                   Volvo XC60 D5  Hyderabad  2015             100000   \n",
       "989                    Volvo XC60 D5       Pune  2011             106976   \n",
       "1178       Volvo XC60 D5 Inscription      Kochi  2014              86925   \n",
       "4497  Volvo XC90 2007-2015 D5 AT AWD      Kochi  2014             102001   \n",
       "2401     Volvo XC90 2007-2015 D5 AWD      Kochi  2014              89230   \n",
       "\n",
       "     Fuel_Type Transmission Owner_Type     Mileage   Engine     Power  ...  \\\n",
       "1221    Diesel       Manual      Third   12.8 kmpl  1489 CC  35.5 bhp  ...   \n",
       "398     Diesel    Automatic      First  20.38 kmpl  1968 CC   143 bhp  ...   \n",
       "4782    Diesel    Automatic      First  20.38 kmpl  1968 CC   143 bhp  ...   \n",
       "4989    Diesel    Automatic      First  20.38 kmpl  1968 CC   143 bhp  ...   \n",
       "1954    Diesel    Automatic     Second  20.38 kmpl  1968 CC   143 bhp  ...   \n",
       "...        ...          ...        ...         ...      ...       ...  ...   \n",
       "3933    Diesel    Automatic      First   13.5 kmpl  2400 CC   215 bhp  ...   \n",
       "989     Diesel    Automatic      First   13.5 kmpl  2400 CC   215 bhp  ...   \n",
       "1178    Diesel    Automatic      First   11.2 kmpl  2400 CC   215 bhp  ...   \n",
       "4497    Diesel    Automatic      First   11.1 kmpl  2400 CC   200 bhp  ...   \n",
       "2401    Diesel       Manual      First   11.1 kmpl  2400 CC   200 bhp  ...   \n",
       "\n",
       "      Price       Brand          Model           Version Year_Modified  \\\n",
       "1221   1.35  ambassador    classicnova        novadiesel            16   \n",
       "398   16.50        audi           a335   35tdiattraction             5   \n",
       "4782  19.25        audi           a335      35tdipremium             3   \n",
       "4989  18.90        audi           a335  35tdipremiumplus             3   \n",
       "1954  22.50        audi           a335   35tditechnology             2   \n",
       "...     ...         ...            ...               ...           ...   \n",
       "3933  32.50       volvo         xc60d5                d5             4   \n",
       "989   13.80       volvo         xc60d5                d5             8   \n",
       "1178  17.18       volvo         xc60d5     d5inscription             5   \n",
       "4497  23.58       volvo  xc902007-2015  2007-2015d5atawd             5   \n",
       "2401  23.65       volvo  xc902007-2015    2007-2015d5awd             5   \n",
       "\n",
       "      Brand_Transformed  Model_Transformed  Version_Transformed  \\\n",
       "1221                  0                133                 1205   \n",
       "398                   1                 12                  560   \n",
       "4782                  1                 12                  562   \n",
       "4989                  1                 12                  563   \n",
       "1954                  1                 12                  568   \n",
       "...                 ...                ...                  ...   \n",
       "3933                 29                629                  851   \n",
       "989                  29                629                  851   \n",
       "1178                 29                629                  852   \n",
       "4497                 29                630                  424   \n",
       "2401                 29                630                  425   \n",
       "\n",
       "      Location_Transformed  Transmission_Transformed  \n",
       "1221                     2                         1  \n",
       "398                      2                         0  \n",
       "4782                     9                         0  \n",
       "4989                     9                         0  \n",
       "1954                     4                         0  \n",
       "...                    ...                       ...  \n",
       "3933                     5                         0  \n",
       "989                     10                         0  \n",
       "1178                     7                         0  \n",
       "4497                     7                         0  \n",
       "2401                     7                         1  \n",
       "\n",
       "[6018 rows x 21 columns]"
      ]
     },
     "execution_count": 1013,
     "metadata": {},
     "output_type": "execute_result"
    }
   ],
   "source": [
    "train_data"
   ]
  },
  {
   "cell_type": "code",
   "execution_count": 1014,
   "metadata": {},
   "outputs": [],
   "source": [
    "import category_encoders as ce\n",
    "ohe=ce.OneHotEncoder(handle_unknown='ignore',use_cat_names=True)\n",
    "ohe.fit(train_data['Year'])\n",
    "ohe_trns=ohe.transform(train_data['Year'])"
   ]
  },
  {
   "cell_type": "code",
   "execution_count": 1015,
   "metadata": {},
   "outputs": [
    {
     "data": {
      "text/plain": [
       "Index(['Name', 'Location', 'Year', 'Kilometers_Driven', 'Fuel_Type',\n",
       "       'Transmission', 'Owner_Type', 'Mileage', 'Engine', 'Power', 'Seats',\n",
       "       'Price', 'Brand', 'Model', 'Version', 'Year_Modified',\n",
       "       'Brand_Transformed', 'Model_Transformed', 'Version_Transformed',\n",
       "       'Location_Transformed', 'Transmission_Transformed'],\n",
       "      dtype='object')"
      ]
     },
     "execution_count": 1015,
     "metadata": {},
     "output_type": "execute_result"
    }
   ],
   "source": [
    "train_data.columns"
   ]
  },
  {
   "cell_type": "code",
   "execution_count": 1016,
   "metadata": {},
   "outputs": [],
   "source": [
    "import pandas as pd\n",
    "df=pd.DataFrame({'name':['josef','michael','john','bawool','klaus'],\n",
    "                 'country':['russia','germany','australia','korea','germany']\n",
    "                })\n",
    "df=pd.concat([df,pd.get_dummies(df['country'],prefix='country')],axis=1)"
   ]
  },
  {
   "cell_type": "code",
   "execution_count": 1017,
   "metadata": {},
   "outputs": [
    {
     "data": {
      "text/html": [
       "<div>\n",
       "<style scoped>\n",
       "    .dataframe tbody tr th:only-of-type {\n",
       "        vertical-align: middle;\n",
       "    }\n",
       "\n",
       "    .dataframe tbody tr th {\n",
       "        vertical-align: top;\n",
       "    }\n",
       "\n",
       "    .dataframe thead th {\n",
       "        text-align: right;\n",
       "    }\n",
       "</style>\n",
       "<table border=\"1\" class=\"dataframe\">\n",
       "  <thead>\n",
       "    <tr style=\"text-align: right;\">\n",
       "      <th></th>\n",
       "      <th>name</th>\n",
       "      <th>country</th>\n",
       "      <th>country_australia</th>\n",
       "      <th>country_germany</th>\n",
       "      <th>country_korea</th>\n",
       "      <th>country_russia</th>\n",
       "    </tr>\n",
       "  </thead>\n",
       "  <tbody>\n",
       "    <tr>\n",
       "      <th>0</th>\n",
       "      <td>josef</td>\n",
       "      <td>russia</td>\n",
       "      <td>0</td>\n",
       "      <td>0</td>\n",
       "      <td>0</td>\n",
       "      <td>1</td>\n",
       "    </tr>\n",
       "    <tr>\n",
       "      <th>1</th>\n",
       "      <td>michael</td>\n",
       "      <td>germany</td>\n",
       "      <td>0</td>\n",
       "      <td>1</td>\n",
       "      <td>0</td>\n",
       "      <td>0</td>\n",
       "    </tr>\n",
       "    <tr>\n",
       "      <th>2</th>\n",
       "      <td>john</td>\n",
       "      <td>australia</td>\n",
       "      <td>1</td>\n",
       "      <td>0</td>\n",
       "      <td>0</td>\n",
       "      <td>0</td>\n",
       "    </tr>\n",
       "    <tr>\n",
       "      <th>3</th>\n",
       "      <td>bawool</td>\n",
       "      <td>korea</td>\n",
       "      <td>0</td>\n",
       "      <td>0</td>\n",
       "      <td>1</td>\n",
       "      <td>0</td>\n",
       "    </tr>\n",
       "    <tr>\n",
       "      <th>4</th>\n",
       "      <td>klaus</td>\n",
       "      <td>germany</td>\n",
       "      <td>0</td>\n",
       "      <td>1</td>\n",
       "      <td>0</td>\n",
       "      <td>0</td>\n",
       "    </tr>\n",
       "  </tbody>\n",
       "</table>\n",
       "</div>"
      ],
      "text/plain": [
       "      name    country  country_australia  country_germany  country_korea  \\\n",
       "0    josef     russia                  0                0              0   \n",
       "1  michael    germany                  0                1              0   \n",
       "2     john  australia                  1                0              0   \n",
       "3   bawool      korea                  0                0              1   \n",
       "4    klaus    germany                  0                1              0   \n",
       "\n",
       "   country_russia  \n",
       "0               1  \n",
       "1               0  \n",
       "2               0  \n",
       "3               0  \n",
       "4               0  "
      ]
     },
     "execution_count": 1017,
     "metadata": {},
     "output_type": "execute_result"
    }
   ],
   "source": [
    "df"
   ]
  },
  {
   "cell_type": "code",
   "execution_count": 1018,
   "metadata": {},
   "outputs": [],
   "source": [
    "from sklearn.preprocessing import OneHotEncoder\n",
    "enc = OneHotEncoder(handle_unknown='ignore')\n",
    "ohe_trns=enc.fit_transform(train_data['Year'].values.astype(float).reshape(-1,1))"
   ]
  },
  {
   "cell_type": "code",
   "execution_count": 1019,
   "metadata": {},
   "outputs": [
    {
     "data": {
      "text/plain": [
       "Index(['Name', 'Location', 'Year', 'Kilometers_Driven', 'Fuel_Type',\n",
       "       'Transmission', 'Owner_Type', 'Mileage', 'Engine', 'Power', 'Seats',\n",
       "       'Price', 'Brand', 'Model', 'Version', 'Year_Modified',\n",
       "       'Brand_Transformed', 'Model_Transformed', 'Version_Transformed',\n",
       "       'Location_Transformed', 'Transmission_Transformed'],\n",
       "      dtype='object')"
      ]
     },
     "execution_count": 1019,
     "metadata": {},
     "output_type": "execute_result"
    }
   ],
   "source": [
    "train_data.columns"
   ]
  },
  {
   "cell_type": "code",
   "execution_count": 1020,
   "metadata": {},
   "outputs": [],
   "source": [
    "train_data=pd.concat([train_data,pd.get_dummies(train_data['Location'],prefix='Location')],axis=1)\n",
    "train_data=pd.concat([train_data,pd.get_dummies(train_data['Year'],prefix='Year')],axis=1)"
   ]
  },
  {
   "cell_type": "code",
   "execution_count": 1021,
   "metadata": {},
   "outputs": [],
   "source": [
    "train_data=pd.concat([train_data,pd.get_dummies(train_data['Transmission'],prefix='Transmission')],axis=1)"
   ]
  },
  {
   "cell_type": "code",
   "execution_count": 1022,
   "metadata": {},
   "outputs": [
    {
     "data": {
      "text/plain": [
       "array(['audi', 'bmw', 'bentley', 'ford', 'jaguar', 'lamborghini', 'land',\n",
       "       'mercedes-benz', 'porsche'], dtype=object)"
      ]
     },
     "execution_count": 1022,
     "metadata": {},
     "output_type": "execute_result"
    }
   ],
   "source": [
    "train_data[train_data.Price>45]['Brand'].unique()"
   ]
  },
  {
   "cell_type": "code",
   "execution_count": 1023,
   "metadata": {},
   "outputs": [],
   "source": [
    "train_data['is_audi_highend']=train_data[['Brand','Price']].apply(lambda x: 1 if ((x['Brand']=='audi')& (x['Price']>45)) else 0,axis=1)\n",
    "train_data['is_bmw_highend']=train_data[['Brand','Price']].apply(lambda x: 1 if ((x['Brand']=='bmw')& (x['Price']>45)) else 0,axis=1)\n",
    "train_data['is_bentley_highend']=train_data[['Brand','Price']].apply(lambda x: 1 if ((x['Brand']=='bentley')& (x['Price']>45)) else 0,axis=1)\n",
    "train_data['is_ford_highend']=train_data[['Brand','Price']].apply(lambda x: 1 if ((x['Brand']=='ford')& (x['Price']>45)) else 0,axis=1)\n",
    "train_data['is_jaguar_highend']=train_data[['Brand','Price']].apply(lambda x: 1 if ((x['Brand']=='jaguar')& (x['Price']>45)) else 0,axis=1)\n",
    "train_data['is_lamborghini_highend']=train_data[['Brand','Price']].apply(lambda x: 1 if ((x['Brand']=='lamborghini')& (x['Price']>45)) else 0,axis=1)\n",
    "train_data['is_land_highend']=train_data[['Brand','Price']].apply(lambda x: 1 if ((x['Brand']=='land')& (x['Price']>45)) else 0,axis=1)\n",
    "train_data['is_mercedes-benz_highend']=train_data[['Brand','Price']].apply(lambda x: 1 if ((x['Brand']=='mercedes-benz')& (x['Price']>45)) else 0,axis=1)\n",
    "train_data['is_porsche_highend']=train_data[['Brand','Price']].apply(lambda x: 1 if ((x['Brand']=='porsche')& (x['Price']>45)) else 0,axis=1)"
   ]
  },
  {
   "cell_type": "code",
   "execution_count": 1024,
   "metadata": {},
   "outputs": [],
   "source": [
    "train_data['Below_2000']=train_data.Year.apply(lambda x: 1 if x<2000 else 0)\n",
    "train_data['2000_2005']=train_data.Year.apply(lambda x: 1 if (x>=2000 & x<2005) else 0)\n",
    "train_data['2005_2010']=train_data.Year.apply(lambda x: 1 if (x>=2005 & x<2010) else 0)\n",
    "train_data['2010_2015']=train_data.Year.apply(lambda x: 1 if (x>=2010 & x<2015) else 0)\n",
    "train_data['2015_above']=train_data.Year.apply(lambda x: 1 if x>=2015 else 0)"
   ]
  },
  {
   "cell_type": "code",
   "execution_count": 1025,
   "metadata": {},
   "outputs": [],
   "source": [
    "from sklearn.preprocessing import MinMaxScaler\n",
    "for i in ['Kilometers_Driven']:\n",
    "    train_data[i]=MinMaxScaler(feature_range=(0,1)).fit_transform(train_data[i].values.astype(float).reshape(-1,1))"
   ]
  },
  {
   "cell_type": "code",
   "execution_count": 1026,
   "metadata": {},
   "outputs": [],
   "source": [
    "train_data1= train_data.copy()"
   ]
  },
  {
   "cell_type": "code",
   "execution_count": 1027,
   "metadata": {},
   "outputs": [
    {
     "data": {
      "text/plain": [
       "['Name',\n",
       " 'Location',\n",
       " 'Year',\n",
       " 'Kilometers_Driven',\n",
       " 'Fuel_Type',\n",
       " 'Transmission',\n",
       " 'Owner_Type',\n",
       " 'Mileage',\n",
       " 'Engine',\n",
       " 'Power',\n",
       " 'Seats',\n",
       " 'Price',\n",
       " 'Brand',\n",
       " 'Model',\n",
       " 'Version',\n",
       " 'Year_Modified',\n",
       " 'Brand_Transformed',\n",
       " 'Model_Transformed',\n",
       " 'Version_Transformed',\n",
       " 'Location_Transformed',\n",
       " 'Transmission_Transformed',\n",
       " 'Location_Ahmedabad',\n",
       " 'Location_Bangalore',\n",
       " 'Location_Chennai',\n",
       " 'Location_Coimbatore',\n",
       " 'Location_Delhi',\n",
       " 'Location_Hyderabad',\n",
       " 'Location_Jaipur',\n",
       " 'Location_Kochi',\n",
       " 'Location_Kolkata',\n",
       " 'Location_Mumbai',\n",
       " 'Location_Pune',\n",
       " 'Year_1998',\n",
       " 'Year_1999',\n",
       " 'Year_2000',\n",
       " 'Year_2001',\n",
       " 'Year_2002',\n",
       " 'Year_2003',\n",
       " 'Year_2004',\n",
       " 'Year_2005',\n",
       " 'Year_2006',\n",
       " 'Year_2007',\n",
       " 'Year_2008',\n",
       " 'Year_2009',\n",
       " 'Year_2010',\n",
       " 'Year_2011',\n",
       " 'Year_2012',\n",
       " 'Year_2013',\n",
       " 'Year_2014',\n",
       " 'Year_2015',\n",
       " 'Year_2016',\n",
       " 'Year_2017',\n",
       " 'Year_2018',\n",
       " 'Year_2019',\n",
       " 'Transmission_Automatic',\n",
       " 'Transmission_Manual',\n",
       " 'is_audi_highend',\n",
       " 'is_bmw_highend',\n",
       " 'is_bentley_highend',\n",
       " 'is_ford_highend',\n",
       " 'is_jaguar_highend',\n",
       " 'is_lamborghini_highend',\n",
       " 'is_land_highend',\n",
       " 'is_mercedes-benz_highend',\n",
       " 'is_porsche_highend',\n",
       " 'Below_2000',\n",
       " '2000_2005',\n",
       " '2005_2010',\n",
       " '2010_2015',\n",
       " '2015_above']"
      ]
     },
     "execution_count": 1027,
     "metadata": {},
     "output_type": "execute_result"
    }
   ],
   "source": [
    "train_data.columns.tolist()"
   ]
  },
  {
   "cell_type": "code",
   "execution_count": 1028,
   "metadata": {},
   "outputs": [],
   "source": [
    "train_data1['Brand_model']=train_data1['Brand_Transformed']*train_data['Model_Transformed']"
   ]
  },
  {
   "cell_type": "code",
   "execution_count": 1029,
   "metadata": {},
   "outputs": [],
   "source": [
    "train_data1['Below_2000']=train_data1.Year.apply(lambda x: 1 if x<2000 else 0)\n",
    "train_data1['2000_2005']=train_data1.Year.apply(lambda x: 1 if (x>=2000 & x<2005) else 0)\n",
    "train_data1['2005_2010']=train_data1.Year.apply(lambda x: 1 if (x>=2005 & x<2010) else 0)\n",
    "train_data1['2010_2015']=train_data1.Year.apply(lambda x: 1 if (x>=2010 & x<2015) else 0)\n",
    "train_data1['2015_above']=train_data1.Year.apply(lambda x: 1 if x>=2015 else 0)"
   ]
  },
  {
   "cell_type": "code",
   "execution_count": 1030,
   "metadata": {},
   "outputs": [],
   "source": [
    "from sklearn.model_selection import train_test_split\n",
    "data_train_target=train_data1['Price']\n",
    "data_train_final=train_data1.drop(['Name',\n",
    "    'Location','Version_Transformed',\n",
    "    'Fuel_Type','Year','Transmission',\n",
    "    'Transmission_Transformed',\n",
    "    'Owner_Type',\n",
    "    'Mileage',\n",
    "    'Engine',\n",
    "    'Power',\n",
    "    'Seats',\n",
    "    'Price',\n",
    "    'Brand',\n",
    "    'Model',\n",
    "    'Version',\n",
    "    'Location_Transformed'],axis=1)\n"
   ]
  },
  {
   "cell_type": "code",
   "execution_count": 1031,
   "metadata": {},
   "outputs": [],
   "source": [
    "from sklearn.preprocessing import MinMaxScaler\n",
    "for i in ['Year_Modified','Brand_Transformed']:\n",
    "    data_train_final[i]=MinMaxScaler(feature_range=(0,1)).fit_transform(data_train_final[i].values.astype(float).reshape(-1,1))"
   ]
  },
  {
   "cell_type": "code",
   "execution_count": 1032,
   "metadata": {},
   "outputs": [],
   "source": [
    "X_train,X_test,y_train,y_test=train_test_split(data_train_final,data_train_target,test_size=0.33)"
   ]
  },
  {
   "cell_type": "code",
   "execution_count": 1033,
   "metadata": {},
   "outputs": [
    {
     "name": "stderr",
     "output_type": "stream",
     "text": [
      "C:\\Users\\NIKHIL\\anaconda3\\lib\\site-packages\\sklearn\\model_selection\\_search.py:281: UserWarning: The total space of parameters 7 is smaller than n_iter=10. Running 7 iterations. For exhaustive searches, use GridSearchCV.\n",
      "  % (grid_size, self.n_iter, grid_size), UserWarning)\n",
      "C:\\Users\\NIKHIL\\anaconda3\\lib\\site-packages\\sklearn\\linear_model\\_coordinate_descent.py:476: ConvergenceWarning: Objective did not converge. You might want to increase the number of iterations. Duality gap: 965.7768343008356, tolerance: 43.82593468860155\n",
      "  positive)\n"
     ]
    }
   ],
   "source": [
    "from sklearn.model_selection import RandomizedSearchCV\n",
    "from sklearn.linear_model import Lasso\n",
    "C=[0.001,0.01,0.1,1,10,100,1000]\n",
    "param_grid=dict(alpha=C)\n",
    "clf=RandomizedSearchCV(Lasso(),param_grid,random_state=1,cv=5,verbose=0,scoring='neg_mean_squared_error')\n",
    "best_model=clf.fit(X_train,y_train)"
   ]
  },
  {
   "cell_type": "code",
   "execution_count": 1034,
   "metadata": {},
   "outputs": [
    {
     "data": {
      "text/plain": [
       "{'alpha': 0.001}"
      ]
     },
     "execution_count": 1034,
     "metadata": {},
     "output_type": "execute_result"
    }
   ],
   "source": [
    "best_model.best_params_"
   ]
  },
  {
   "cell_type": "code",
   "execution_count": 1035,
   "metadata": {},
   "outputs": [],
   "source": [
    "y_pred = best_model.predict(X_test)"
   ]
  },
  {
   "cell_type": "code",
   "execution_count": 1036,
   "metadata": {},
   "outputs": [
    {
     "data": {
      "text/plain": [
       "(1986, 54)"
      ]
     },
     "execution_count": 1036,
     "metadata": {},
     "output_type": "execute_result"
    }
   ],
   "source": [
    "X_test.shape"
   ]
  },
  {
   "cell_type": "code",
   "execution_count": 1037,
   "metadata": {},
   "outputs": [
    {
     "data": {
      "text/plain": [
       "(4032,)"
      ]
     },
     "execution_count": 1037,
     "metadata": {},
     "output_type": "execute_result"
    }
   ],
   "source": [
    "y_train.shape"
   ]
  },
  {
   "cell_type": "code",
   "execution_count": 1038,
   "metadata": {},
   "outputs": [
    {
     "data": {
      "text/plain": [
       "(1986,)"
      ]
     },
     "execution_count": 1038,
     "metadata": {},
     "output_type": "execute_result"
    }
   ],
   "source": [
    "y_test.shape"
   ]
  },
  {
   "cell_type": "markdown",
   "metadata": {},
   "source": [
    " # Applying XGBoost Algorithm "
   ]
  },
  {
   "cell_type": "code",
   "execution_count": 1039,
   "metadata": {},
   "outputs": [
    {
     "name": "stdout",
     "output_type": "stream",
     "text": [
      "[11:45:41] WARNING: src/objective/regression_obj.cu:152: reg:linear is now deprecated in favor of reg:squarederror.\n",
      "[11:45:41] WARNING: src/objective/regression_obj.cu:152: reg:linear is now deprecated in favor of reg:squarederror.\n",
      "[11:45:42] WARNING: src/objective/regression_obj.cu:152: reg:linear is now deprecated in favor of reg:squarederror.\n",
      "[11:45:43] WARNING: src/objective/regression_obj.cu:152: reg:linear is now deprecated in favor of reg:squarederror.\n",
      "[11:45:44] WARNING: src/objective/regression_obj.cu:152: reg:linear is now deprecated in favor of reg:squarederror.\n",
      "[11:45:44] WARNING: src/objective/regression_obj.cu:152: reg:linear is now deprecated in favor of reg:squarederror.\n",
      "[11:45:44] WARNING: src/objective/regression_obj.cu:152: reg:linear is now deprecated in favor of reg:squarederror.\n",
      "[11:45:44] WARNING: src/objective/regression_obj.cu:152: reg:linear is now deprecated in favor of reg:squarederror.\n",
      "[11:45:44] WARNING: src/objective/regression_obj.cu:152: reg:linear is now deprecated in favor of reg:squarederror.\n",
      "[11:45:45] WARNING: src/objective/regression_obj.cu:152: reg:linear is now deprecated in favor of reg:squarederror.\n",
      "[11:45:45] WARNING: src/objective/regression_obj.cu:152: reg:linear is now deprecated in favor of reg:squarederror.\n",
      "[11:45:45] WARNING: src/objective/regression_obj.cu:152: reg:linear is now deprecated in favor of reg:squarederror.\n",
      "[11:45:45] WARNING: src/objective/regression_obj.cu:152: reg:linear is now deprecated in favor of reg:squarederror.\n",
      "[11:45:45] WARNING: src/objective/regression_obj.cu:152: reg:linear is now deprecated in favor of reg:squarederror.\n",
      "[11:45:45] WARNING: src/objective/regression_obj.cu:152: reg:linear is now deprecated in favor of reg:squarederror.\n",
      "[11:45:45] WARNING: src/objective/regression_obj.cu:152: reg:linear is now deprecated in favor of reg:squarederror.\n",
      "[11:45:45] WARNING: src/objective/regression_obj.cu:152: reg:linear is now deprecated in favor of reg:squarederror.\n",
      "[11:45:46] WARNING: src/objective/regression_obj.cu:152: reg:linear is now deprecated in favor of reg:squarederror.\n",
      "[11:45:47] WARNING: src/objective/regression_obj.cu:152: reg:linear is now deprecated in favor of reg:squarederror.\n",
      "[11:45:47] WARNING: src/objective/regression_obj.cu:152: reg:linear is now deprecated in favor of reg:squarederror.\n",
      "[11:45:48] WARNING: src/objective/regression_obj.cu:152: reg:linear is now deprecated in favor of reg:squarederror.\n",
      "[11:45:49] WARNING: src/objective/regression_obj.cu:152: reg:linear is now deprecated in favor of reg:squarederror.\n",
      "[11:45:51] WARNING: src/objective/regression_obj.cu:152: reg:linear is now deprecated in favor of reg:squarederror.\n",
      "[11:45:52] WARNING: src/objective/regression_obj.cu:152: reg:linear is now deprecated in favor of reg:squarederror.\n",
      "[11:45:53] WARNING: src/objective/regression_obj.cu:152: reg:linear is now deprecated in favor of reg:squarederror.\n",
      "[11:45:54] WARNING: src/objective/regression_obj.cu:152: reg:linear is now deprecated in favor of reg:squarederror.\n",
      "[11:45:55] WARNING: src/objective/regression_obj.cu:152: reg:linear is now deprecated in favor of reg:squarederror.\n",
      "[11:45:55] WARNING: src/objective/regression_obj.cu:152: reg:linear is now deprecated in favor of reg:squarederror.\n",
      "[11:45:55] WARNING: src/objective/regression_obj.cu:152: reg:linear is now deprecated in favor of reg:squarederror.\n",
      "[11:45:55] WARNING: src/objective/regression_obj.cu:152: reg:linear is now deprecated in favor of reg:squarederror.\n",
      "[11:45:55] WARNING: src/objective/regression_obj.cu:152: reg:linear is now deprecated in favor of reg:squarederror.\n",
      "[11:45:55] WARNING: src/objective/regression_obj.cu:152: reg:linear is now deprecated in favor of reg:squarederror.\n",
      "[11:45:55] WARNING: src/objective/regression_obj.cu:152: reg:linear is now deprecated in favor of reg:squarederror.\n",
      "[11:45:55] WARNING: src/objective/regression_obj.cu:152: reg:linear is now deprecated in favor of reg:squarederror.\n",
      "[11:45:55] WARNING: src/objective/regression_obj.cu:152: reg:linear is now deprecated in favor of reg:squarederror.\n",
      "[11:45:55] WARNING: src/objective/regression_obj.cu:152: reg:linear is now deprecated in favor of reg:squarederror.\n",
      "[11:45:55] WARNING: src/objective/regression_obj.cu:152: reg:linear is now deprecated in favor of reg:squarederror.\n",
      "[11:45:55] WARNING: src/objective/regression_obj.cu:152: reg:linear is now deprecated in favor of reg:squarederror.\n",
      "[11:45:55] WARNING: src/objective/regression_obj.cu:152: reg:linear is now deprecated in favor of reg:squarederror.\n",
      "[11:45:55] WARNING: src/objective/regression_obj.cu:152: reg:linear is now deprecated in favor of reg:squarederror.\n",
      "[11:45:55] WARNING: src/objective/regression_obj.cu:152: reg:linear is now deprecated in favor of reg:squarederror.\n",
      "[11:45:55] WARNING: src/objective/regression_obj.cu:152: reg:linear is now deprecated in favor of reg:squarederror.\n",
      "[11:45:55] WARNING: src/objective/regression_obj.cu:152: reg:linear is now deprecated in favor of reg:squarederror.\n",
      "[11:45:55] WARNING: src/objective/regression_obj.cu:152: reg:linear is now deprecated in favor of reg:squarederror.\n",
      "[11:45:55] WARNING: src/objective/regression_obj.cu:152: reg:linear is now deprecated in favor of reg:squarederror.\n",
      "[11:45:55] WARNING: src/objective/regression_obj.cu:152: reg:linear is now deprecated in favor of reg:squarederror.\n",
      "[11:45:56] WARNING: src/objective/regression_obj.cu:152: reg:linear is now deprecated in favor of reg:squarederror.\n",
      "[11:45:57] WARNING: src/objective/regression_obj.cu:152: reg:linear is now deprecated in favor of reg:squarederror.\n",
      "[11:45:58] WARNING: src/objective/regression_obj.cu:152: reg:linear is now deprecated in favor of reg:squarederror.\n",
      "[11:45:58] WARNING: src/objective/regression_obj.cu:152: reg:linear is now deprecated in favor of reg:squarederror.\n",
      "[11:45:59] WARNING: src/objective/regression_obj.cu:152: reg:linear is now deprecated in favor of reg:squarederror.\n"
     ]
    },
    {
     "data": {
      "text/plain": [
       "{'subsample': 0.95,\n",
       " 'reg_lambda': 0.45,\n",
       " 'reg_alpha': 0.01,\n",
       " 'n_estimators': 100,\n",
       " 'min_child_weight': 10,\n",
       " 'max_depth': 9,\n",
       " 'learning_rate': 0.07,\n",
       " 'gamma': 0.03,\n",
       " 'colsample_bytree': 0.4}"
      ]
     },
     "execution_count": 1039,
     "metadata": {},
     "output_type": "execute_result"
    }
   ],
   "source": [
    "import warnings\n",
    "import xgboost as xgb\n",
    "import csv as csv\n",
    "from xgboost import plot_importance\n",
    "warnings.simplefilter(action='ignore',category=FutureWarning)\n",
    "parameters_for_testing={\n",
    "    'colsample_bytree':[0.4,0.6,0.8],\n",
    "    'gamma':[0,0.03,0.1,0.3],\n",
    "    'min_child_weight':[1.5,6,10],\n",
    "    'learning_rate':[0.1,0.07],\n",
    "    'max_depth':[3,5,7,9],\n",
    "    'n_estimators':[1,2,4,8,16,32,64,100,200],\n",
    "    'reg_alpha':[1e-5,1e-2,0.75],\n",
    "    'reg_lambda':[1e-5,1e-2,0.45],\n",
    "    'subsample':[0.6,0.95]\n",
    "}\n",
    "clf=RandomizedSearchCV(xgb.XGBRegressor(),parameters_for_testing,random_state=1,cv=5,verbose=0,scoring='neg_mean_squared_error')\n",
    "\n",
    "best_model=clf.fit(X_train,y_train)\n",
    "best_model.best_params_"
   ]
  },
  {
   "cell_type": "code",
   "execution_count": 1040,
   "metadata": {},
   "outputs": [
    {
     "name": "stdout",
     "output_type": "stream",
     "text": [
      "[11:46:00] WARNING: src/objective/regression_obj.cu:152: reg:linear is now deprecated in favor of reg:squarederror.\n"
     ]
    },
    {
     "data": {
      "text/plain": [
       "XGBRegressor(base_score=0.5, booster='gbtree', colsample_bylevel=1,\n",
       "             colsample_bynode=1, colsample_bytree=0.8, gamma=0.3,\n",
       "             importance_type='gain', learning_rate=0.1, max_delta_step=0,\n",
       "             max_depth=5, min__child_weight=10, min_child_weight=1,\n",
       "             missing=None, n_estimator=200, n_estimators=100, n_jobs=1,\n",
       "             nthread=None, objective='reg:linear', random_state=0,\n",
       "             reg_alpha=1e-05, reg_lambda=1e-05, scale_pos_weight=1, seed=None,\n",
       "             silent=None, subsample=0.95, verbosity=1)"
      ]
     },
     "execution_count": 1040,
     "metadata": {},
     "output_type": "execute_result"
    }
   ],
   "source": [
    "best_xgb_model=xgb.XGBRegressor(colsample_bytree=0.8,\n",
    "                               gamma=0.3,\n",
    "                               learning_rate=0.1,\n",
    "                               max_depth=5,\n",
    "                               min__child_weight=10,\n",
    "                               n_estimator=200,\n",
    "                               reg_alpha=1e-05,\n",
    "                               reg_lambda=1e-05,\n",
    "                               subsample=0.95)\n",
    "best_xgb_model.fit(X_train,y_train)"
   ]
  },
  {
   "cell_type": "code",
   "execution_count": 1041,
   "metadata": {},
   "outputs": [],
   "source": [
    "y_pred=best_xgb_model.predict(X_test)\n",
    "pd.DataFrame(y_pred).to_csv(\"y_pred.csv\")"
   ]
  },
  {
   "cell_type": "code",
   "execution_count": 1042,
   "metadata": {},
   "outputs": [
    {
     "name": "stdout",
     "output_type": "stream",
     "text": [
      "RMS: 4.100347459276134 R2 Score: 0.8486932240271552\n"
     ]
    }
   ],
   "source": [
    "y_pred=best_xgb_model.predict(X_test)\n",
    "from sklearn.metrics import r2_score\n",
    "from sklearn.metrics import mean_squared_error\n",
    "from math import sqrt\n",
    "\n",
    "rms=sqrt(mean_squared_error(y_test,y_pred))\n",
    "print('RMS:',rms,'R2 Score:',r2_score(y_test,y_pred))"
   ]
  },
  {
   "cell_type": "code",
   "execution_count": 1043,
   "metadata": {},
   "outputs": [
    {
     "name": "stdout",
     "output_type": "stream",
     "text": [
      "RMS: 2.2053471448919457 R2 Score: 0.9629606078820377\n"
     ]
    }
   ],
   "source": [
    "y_train1=best_xgb_model.predict(X_train)\n",
    "from sklearn.metrics import r2_score\n",
    "from sklearn.metrics import mean_squared_error\n",
    "from math import sqrt\n",
    "\n",
    "rms=sqrt(mean_squared_error(y_train,y_train1))\n",
    "print('RMS:',rms,'R2 Score:',r2_score(y_train,y_train1))"
   ]
  },
  {
   "cell_type": "code",
   "execution_count": 1044,
   "metadata": {},
   "outputs": [
    {
     "data": {
      "text/plain": [
       "<matplotlib.axes._subplots.AxesSubplot at 0x22b5afe7388>"
      ]
     },
     "execution_count": 1044,
     "metadata": {},
     "output_type": "execute_result"
    },
    {
     "data": {
      "image/png": "[encoded data removed]",
      "text/plain": [
       "<Figure size 720x360 with 1 Axes>"
      ]
     },
     "metadata": {
      "needs_background": "light"
     },
     "output_type": "display_data"
    }
   ],
   "source": [
    "xgb.plot_importance(best_xgb_model)"
   ]
  },
  {
   "cell_type": "code",
   "execution_count": 1045,
   "metadata": {},
   "outputs": [
    {
     "name": "stdout",
     "output_type": "stream",
     "text": [
      "90   22.46500000000001\n",
      "91   24.0\n",
      "92   25.73920000000001\n",
      "93   27.93480000000003\n",
      "94   29.95\n",
      "95   32.27849999999993\n",
      "96   35.515999999999984\n",
      "97   39.5\n",
      "98   45.579399999999985\n",
      "99   56.0\n",
      "100   160.0\n"
     ]
    }
   ],
   "source": [
    "import numpy as np\n",
    "train_data\n",
    "for i in range(90,101,1):\n",
    "    print(i ,' ',np.percentile(train_data.Price,i))"
   ]
  },
  {
   "cell_type": "code",
   "execution_count": 1046,
   "metadata": {},
   "outputs": [],
   "source": [
    "brand_name=[]\n",
    "model_name=[]\n",
    "version=[]\n",
    "for i,j in train_data.iterrows ():\n",
    "    brand_name.append(j['Name'].split()[0].lower())\n",
    "    model_name.append(j['Name'].split()[1].lower())\n",
    "    version.append(\"\".join(j['Name'].split()[2:1]).lower())\n",
    "train_data['Brand']=brand_name\n",
    "train_data[\"Model\"]=model_name\n",
    "train_data['Version']=version"
   ]
  },
  {
   "cell_type": "code",
   "execution_count": 1047,
   "metadata": {},
   "outputs": [
    {
     "data": {
      "text/plain": [
       "30"
      ]
     },
     "execution_count": 1047,
     "metadata": {},
     "output_type": "execute_result"
    }
   ],
   "source": [
    "len(train_data.Brand.unique().tolist())"
   ]
  },
  {
   "cell_type": "code",
   "execution_count": 1048,
   "metadata": {},
   "outputs": [],
   "source": [
    "X_train,X_test,y_train,y_test=train_test_split(train_data1,data_train_target,test_size=0.33)"
   ]
  },
  {
   "cell_type": "code",
   "execution_count": 1049,
   "metadata": {},
   "outputs": [
    {
     "name": "stderr",
     "output_type": "stream",
     "text": [
      "C:\\Users\\NIKHIL\\anaconda3\\lib\\site-packages\\ipykernel_launcher.py:1: SettingWithCopyWarning: \n",
      "A value is trying to be set on a copy of a slice from a DataFrame.\n",
      "Try using .loc[row_indexer,col_indexer] = value instead\n",
      "\n",
      "See the caveats in the documentation: https://pandas.pydata.org/pandas-docs/stable/user_guide/indexing.html#returning-a-view-versus-a-copy\n",
      "  \"\"\"Entry point for launching an IPython kernel.\n"
     ]
    }
   ],
   "source": [
    "X_train['Brand_model']=X_train['Brand_Transformed']*X_train['Model_Transformed']"
   ]
  },
  {
   "cell_type": "code",
   "execution_count": 1050,
   "metadata": {},
   "outputs": [],
   "source": [
    "dataset_cnt = X_train.shape[0]\n",
    "sum=0\n",
    "std_list=[]\n",
    "import statistics\n",
    "for col_name in ['Brand_Transformed','Model_Transformed','Location_Transformed','Year_Modified','Brand_model']:\n",
    "    sum=0\n",
    "    for i in X_train[col_name].unique().tolist():\n",
    "\n",
    "        if X_train[X_train[col_name]==i][col_name].shape[0]>1:\n",
    "            sum=sum+((X_train[X_train[col_name]==i][col_name].count()/dataset_cnt)*(statistics.stdev(X_train[X_train[col_name]==i]['Price'])))\n",
    "\n",
    "        else :\n",
    "\n",
    "              sum=sum+((X_train[X_train[col_name]==i][col_name].count()/dataset_cnt)*0)\n",
    "    std_list.append([col_name, sum])"
   ]
  },
  {
   "cell_type": "code",
   "execution_count": 1051,
   "metadata": {},
   "outputs": [
    {
     "data": {
      "text/plain": [
       "10.819545914361617"
      ]
     },
     "execution_count": 1051,
     "metadata": {},
     "output_type": "execute_result"
    }
   ],
   "source": [
    "statistics.stdev(X_train['Price'])"
   ]
  },
  {
   "cell_type": "code",
   "execution_count": 1052,
   "metadata": {},
   "outputs": [
    {
     "data": {
      "text/plain": [
       "[['Brand_Transformed', 5.2184052325482035],\n",
       " ['Model_Transformed', 2.4628245924600622],\n",
       " ['Location_Transformed', 10.139956961976427],\n",
       " ['Year_Modified', 9.729053484912484],\n",
       " ['Brand_model', 2.6376893991986177]]"
      ]
     },
     "execution_count": 1052,
     "metadata": {},
     "output_type": "execute_result"
    }
   ],
   "source": [
    "std_list"
   ]
  },
  {
   "cell_type": "code",
   "execution_count": 1053,
   "metadata": {},
   "outputs": [
    {
     "data": {
      "text/plain": [
       "Index(['Name', 'Location', 'Year', 'Kilometers_Driven', 'Fuel_Type',\n",
       "       'Transmission', 'Owner_Type', 'Mileage', 'Engine', 'Power', 'Seats',\n",
       "       'Price', 'Brand', 'Model', 'Version', 'Year_Modified',\n",
       "       'Brand_Transformed', 'Model_Transformed', 'Version_Transformed',\n",
       "       'Location_Transformed', 'Transmission_Transformed',\n",
       "       'Location_Ahmedabad', 'Location_Bangalore', 'Location_Chennai',\n",
       "       'Location_Coimbatore', 'Location_Delhi', 'Location_Hyderabad',\n",
       "       'Location_Jaipur', 'Location_Kochi', 'Location_Kolkata',\n",
       "       'Location_Mumbai', 'Location_Pune', 'Year_1998', 'Year_1999',\n",
       "       'Year_2000', 'Year_2001', 'Year_2002', 'Year_2003', 'Year_2004',\n",
       "       'Year_2005', 'Year_2006', 'Year_2007', 'Year_2008', 'Year_2009',\n",
       "       'Year_2010', 'Year_2011', 'Year_2012', 'Year_2013', 'Year_2014',\n",
       "       'Year_2015', 'Year_2016', 'Year_2017', 'Year_2018', 'Year_2019',\n",
       "       'Transmission_Automatic', 'Transmission_Manual', 'is_audi_highend',\n",
       "       'is_bmw_highend', 'is_bentley_highend', 'is_ford_highend',\n",
       "       'is_jaguar_highend', 'is_lamborghini_highend', 'is_land_highend',\n",
       "       'is_mercedes-benz_highend', 'is_porsche_highend', 'Below_2000',\n",
       "       '2000_2005', '2005_2010', '2010_2015', '2015_above', 'Brand_model'],\n",
       "      dtype='object')"
      ]
     },
     "execution_count": 1053,
     "metadata": {},
     "output_type": "execute_result"
    }
   ],
   "source": [
    "train_data1.columns"
   ]
  },
  {
   "cell_type": "code",
   "execution_count": 1054,
   "metadata": {},
   "outputs": [],
   "source": [
    "train_data1=train_data[train_data.Price<75].copy()"
   ]
  },
  {
   "cell_type": "code",
   "execution_count": 1055,
   "metadata": {},
   "outputs": [],
   "source": [
    "y=pd.DataFrame(columns=['Price'])"
   ]
  },
  {
   "cell_type": "code",
   "execution_count": 1056,
   "metadata": {},
   "outputs": [
    {
     "name": "stdout",
     "output_type": "stream",
     "text": [
      "                  Specs      Scores\n",
      "0         Year_Modified  657.633831\n",
      "1     Brand_Transformed  123.050620\n",
      "4  Location_Transformed   79.097346\n",
      "3   Version_Transformed   53.285260\n",
      "2     Model_Transformed   11.815397\n"
     ]
    }
   ],
   "source": [
    "import pandas as pd\n",
    "import numpy as np\n",
    "from sklearn.feature_selection import SelectKBest\n",
    "from sklearn.feature_selection import f_regression\n",
    "y=train_data1['Price'].tolist()\n",
    "X=train_data1.drop(['Name', 'Location', 'Year', 'Kilometers_Driven', 'Fuel_Type',\n",
    "       'Transmission', 'Owner_Type', 'Mileage', 'Engine', 'Power', 'Seats',\n",
    "       'Price', 'Brand', 'Model', 'Version','Transmission_Transformed',\n",
    "       'Location_Ahmedabad', 'Location_Bangalore', 'Location_Chennai',\n",
    "       'Location_Coimbatore', 'Location_Delhi', 'Location_Hyderabad',\n",
    "       'Location_Jaipur', 'Location_Kochi', 'Location_Kolkata',\n",
    "       'Location_Mumbai', 'Location_Pune', 'Year_1998', 'Year_1999',\n",
    "       'Year_2000', 'Year_2001', 'Year_2002', 'Year_2003', 'Year_2004',\n",
    "       'Year_2005', 'Year_2006', 'Year_2007', 'Year_2008', 'Year_2009',\n",
    "       'Year_2010', 'Year_2011', 'Year_2012', 'Year_2013', 'Year_2014',\n",
    "       'Year_2015', 'Year_2016', 'Year_2017', 'Year_2018', 'Year_2019',\n",
    "       'Transmission_Automatic', 'Transmission_Manual', 'is_audi_highend',\n",
    "       'is_bmw_highend', 'is_bentley_highend', 'is_ford_highend',\n",
    "       'is_jaguar_highend', 'is_lamborghini_highend', 'is_land_highend',\n",
    "       'is_mercedes-benz_highend', 'is_porsche_highend', 'Below_2000',\n",
    "       '2000_2005', '2005_2010', '2010_2015', '2015_above'],axis=1)\n",
    "\n",
    "bestfeatures=SelectKBest(score_func=f_regression,k='all')\n",
    "fit=bestfeatures.fit(X,y)\n",
    "dfscores=pd.DataFrame(fit.scores_)\n",
    "dfcolumns=pd.DataFrame(X.columns)\n",
    "\n",
    "featureScores=pd.concat([dfcolumns,dfscores],axis=1)\n",
    "featureScores.columns=['Specs','Scores']\n",
    "print(featureScores.nlargest(10,'Scores'))"
   ]
  },
  {
   "cell_type": "code",
   "execution_count": 1057,
   "metadata": {},
   "outputs": [],
   "source": [
    "train_data1.drop(['Name', 'Location','Fuel_Type',\n",
    "       'Transmission', 'Owner_Type', 'Mileage', 'Engine', 'Power','Brand', 'Model', 'Version','Transmission_Transformed',\n",
    "       'Location_Ahmedabad', 'Location_Bangalore', 'Location_Chennai',\n",
    "       'Location_Coimbatore', 'Location_Delhi', 'Location_Hyderabad',\n",
    "       'Location_Jaipur', 'Location_Kochi', 'Location_Kolkata',\n",
    "       'Location_Mumbai', 'Location_Pune', 'Year_1998', 'Year_1999',\n",
    "       'Year_2000', 'Year_2001', 'Year_2002', 'Year_2003', 'Year_2004',\n",
    "       'Year_2005', 'Year_2006', 'Year_2007', 'Year_2008', 'Year_2009',\n",
    "       'Year_2010', 'Year_2011', 'Year_2012', 'Year_2013', 'Year_2014',\n",
    "       'Year_2015', 'Year_2016', 'Year_2017', 'Year_2018', 'Year_2019',\n",
    "       'Transmission_Automatic', 'Transmission_Manual', 'is_audi_highend',\n",
    "       'is_bmw_highend', 'is_bentley_highend', 'is_ford_highend',\n",
    "       'is_jaguar_highend', 'is_lamborghini_highend', 'is_land_highend',\n",
    "       'is_mercedes-benz_highend', 'is_porsche_highend', 'Below_2000',\n",
    "       '2000_2005', '2005_2010', '2010_2015', '2015_above'],axis=1,inplace=True)"
   ]
  },
  {
   "cell_type": "code",
   "execution_count": 1058,
   "metadata": {},
   "outputs": [
    {
     "data": {
      "image/png": "[encoded data removed]",
      "text/plain": [
       "<Figure size 1440x1440 with 2 Axes>"
      ]
     },
     "metadata": {
      "needs_background": "light"
     },
     "output_type": "display_data"
    }
   ],
   "source": [
    "import pandas as pd\n",
    "import numpy as np\n",
    "import seaborn as sns\n",
    "\n",
    "y=train_data1['Price'].tolist()\n",
    "X=train_data1\n",
    "corrmat=train_data1.corr()\n",
    "top_corr_features=corrmat.index\n",
    "plt.figure(figsize=(20,20))\n",
    "\n",
    "g=sns.heatmap(train_data1[top_corr_features].corr(),annot=True,cmap='RdYlGn')"
   ]
  },
  {
   "cell_type": "code",
   "execution_count": null,
   "metadata": {},
   "outputs": [],
   "source": []
  }
 ],
 "metadata": {
  "kernelspec": {
   "display_name": "Python 3",
   "language": "python",
   "name": "python3"
  },
  "language_info": {
   "codemirror_mode": {
    "name": "ipython",
    "version": 3
   },
   "file_extension": ".py",
   "mimetype": "text/x-python",
   "name": "python",
   "nbconvert_exporter": "python",
   "pygments_lexer": "ipython3",
   "version": "3.7.6"
  }
 },
 "nbformat": 4,
 "nbformat_minor": 4
}
